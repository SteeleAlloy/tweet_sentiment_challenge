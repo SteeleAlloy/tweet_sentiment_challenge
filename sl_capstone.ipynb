{
 "cells": [
  {
   "cell_type": "markdown",
   "metadata": {},
   "source": [
    "<h1><center>  Supervised Learning Capstone </center></h1>\n",
    "<h2><center> Hate Speech on Twitter- A Natural Language Processing Challenge</center></h2>"
   ]
  },
  {
   "cell_type": "markdown",
   "metadata": {},
   "source": [
    "### Author: Ashley Steele"
   ]
  },
  {
   "cell_type": "markdown",
   "metadata": {},
   "source": [
    "# Project Outline\n",
    "\n",
    "This project consists of the following:\n",
    "\n",
    "[1. About the Dataset](#1.-About-the-Dataset)\n",
    "\n",
    "\n",
    "[2. Exploratory Data Analysis (EDA)](#2.-Exploratory-Data-Analysis-(EDA))\n",
    "- [2.1: Data Loading and Initial Exploration](#2.1:-Data-Loading-and-Initial-Exploration)\n",
    "- [2.2: Cleaning/Visualizing Variables and Feature Engineering](#2.2:-Cleaning/Visualizing-Variables-and-Feature-Engineering)\n",
    "- [2.3: Thoroughly Cleaning the Text of Our Tweets](#2.3:-Thoroughly-Cleaning-the-Text-of-Our-Tweets)\n",
    "- [2.4: Setting Up Text to Make Keyword Determination Easier](#2.4:-Setting-Up-Text-to-Make-Keyword-Determination-Easier)\n",
    "- [2.5: Identifying Keywords and Common Words](#2.5:-Identifying-Keywords-and-Common-Words)\n",
    "\n",
    "[3. Modeling Our Data](#3.-Modeling-Our-Data)\n",
    "- [3.1: Set Up & Testing Our Labels](#3.1:-Set-Up-&-Testing-Our-Labels)\n",
    "- [3.2: Creating hold-out groups and testing](#3.2:-Creating-hold-out-groups-and-testing)\n",
    "- [3.3: Parameter Manipulation within Multinomial Naive Bayes](#3.3:-Parameter-Manipulation-within-Multinomial-Naive-Bayes)\n",
    "- [3.4: Testing Additional Models](#3.4:-Testing-Additional-Models)\n",
    "    * [3.4a: Complement Naive Bayes](#3.4a:-Complement-Naive-Bayes)\n",
    "    * [3.4b: Decision Tree Model](#3.4b:-Decision-Tree-Model)\n",
    "    * [3.4c: KNN Classifier Model](#3.4c:-KNN-Classifier-Model)\n",
    "\n",
    "[4. Label Improvement & Future Implications](#4.-Label-Improvement-&-Future-Implications)\n",
    "\n",
    "[5. Analysis/Reflection](#5.-Analysis/Reflection)\n",
    "- [5.1: Analysis of Overall Project & Future Implications](#5.1:-Analysis-of-Overall-Project-&-Future-Implications)\n",
    "- [5.2: Personal Reflection](#5.2:-Personal-Reflection)"
   ]
  },
  {
   "cell_type": "markdown",
   "metadata": {},
   "source": [
    "## 1. About the Dataset\n",
    "[Back to Outline](#Project-Outline)\n",
    "\n",
    "**Twitter Sentiment Analysis**\n",
    "\n",
    "\n",
    "\n",
    "Hate speech, as defined by the [Oxford Constitutional Law website](https://oxcon.ouplaw.com/view/10.1093/law-mpeccol/law-mpeccol-e130), is **\"verbal or non-verbal communication that involves hostility directed towards particular social groups, most often on the grounds of race and ethnicity (racism, xenophobia, anti-Semitism, etc), gender (sexism, misogyny), sexual orientation (homophobia, transphobia), age (ageism), disability (ableism), etc.\"**\n",
    "\n",
    "The aim of this dataset is to determine if a set of 30,000 tweets contains hate speech relating to sexism and racism in order to create predictive models to identify such language in the future.\n",
    "\n",
    "\n",
    "\n",
    "Link to the original dataset: [here](https://datahack.analyticsvidhya.com/contest/practice-problem-twitter-sentiment-analysis/)\n",
    "\n"
   ]
  },
  {
   "cell_type": "markdown",
   "metadata": {},
   "source": [
    "## 2. Exploratory Data Analysis (EDA)\n",
    "[Back to Outline](#Project-Outline)"
   ]
  },
  {
   "cell_type": "code",
   "execution_count": 2,
   "metadata": {},
   "outputs": [],
   "source": [
    "# Importing all of the resources I will need for this project!\n",
    "import pandas as pd\n",
    "import numpy as np\n",
    "import seaborn as sns\n",
    "import matplotlib.pyplot as plt\n",
    "%matplotlib inline\n",
    "import statsmodels.api as sm\n",
    "from statsmodels.tools.eval_measures import mse, rmse\n",
    "from sklearn.model_selection import train_test_split\n",
    "from sklearn.metrics import mean_absolute_error\n",
    "from sklearn.linear_model import LinearRegression\n",
    "from sklearn import linear_model\n",
    "import os"
   ]
  },
  {
   "cell_type": "code",
   "execution_count": 3,
   "metadata": {},
   "outputs": [
    {
     "data": {
      "text/plain": [
       "'C:\\\\Users\\\\gothv\\\\Practice\\\\Thinkful- Assignments'"
      ]
     },
     "execution_count": 3,
     "metadata": {},
     "output_type": "execute_result"
    }
   ],
   "source": [
    "# Setting up my directory so I can access my dataset\n",
    "os.getcwd()"
   ]
  },
  {
   "cell_type": "code",
   "execution_count": 4,
   "metadata": {},
   "outputs": [],
   "source": [
    "os.chdir('C:\\\\Users\\\\gothv\\\\OneDrive\\\\Desktop\\\\Data\\\\Datasets\\\\sl_capstone_data')"
   ]
  },
  {
   "cell_type": "code",
   "execution_count": 5,
   "metadata": {},
   "outputs": [
    {
     "data": {
      "text/plain": [
       "'C:\\\\Users\\\\gothv\\\\OneDrive\\\\Desktop\\\\Data\\\\Datasets\\\\sl_capstone_data'"
      ]
     },
     "execution_count": 5,
     "metadata": {},
     "output_type": "execute_result"
    }
   ],
   "source": [
    "os.getcwd()"
   ]
  },
  {
   "cell_type": "markdown",
   "metadata": {},
   "source": [
    "### 2.1: Data Loading and Initial Exploration \n",
    "[Back to Outline](#Project-Outline)"
   ]
  },
  {
   "cell_type": "code",
   "execution_count": 6,
   "metadata": {},
   "outputs": [],
   "source": [
    "# Importing the original dataset\n",
    "df = pd.read_csv('train_tweets_hate_speech.csv')"
   ]
  },
  {
   "cell_type": "code",
   "execution_count": 7,
   "metadata": {},
   "outputs": [
    {
     "data": {
      "text/html": [
       "<div>\n",
       "<style scoped>\n",
       "    .dataframe tbody tr th:only-of-type {\n",
       "        vertical-align: middle;\n",
       "    }\n",
       "\n",
       "    .dataframe tbody tr th {\n",
       "        vertical-align: top;\n",
       "    }\n",
       "\n",
       "    .dataframe thead th {\n",
       "        text-align: right;\n",
       "    }\n",
       "</style>\n",
       "<table border=\"1\" class=\"dataframe\">\n",
       "  <thead>\n",
       "    <tr style=\"text-align: right;\">\n",
       "      <th></th>\n",
       "      <th>id</th>\n",
       "      <th>label</th>\n",
       "      <th>tweet</th>\n",
       "    </tr>\n",
       "  </thead>\n",
       "  <tbody>\n",
       "    <tr>\n",
       "      <th>0</th>\n",
       "      <td>1</td>\n",
       "      <td>0</td>\n",
       "      <td>@user when a father is dysfunctional and is s...</td>\n",
       "    </tr>\n",
       "    <tr>\n",
       "      <th>1</th>\n",
       "      <td>2</td>\n",
       "      <td>0</td>\n",
       "      <td>@user @user thanks for #lyft credit i can't us...</td>\n",
       "    </tr>\n",
       "    <tr>\n",
       "      <th>2</th>\n",
       "      <td>3</td>\n",
       "      <td>0</td>\n",
       "      <td>bihday your majesty</td>\n",
       "    </tr>\n",
       "    <tr>\n",
       "      <th>3</th>\n",
       "      <td>4</td>\n",
       "      <td>0</td>\n",
       "      <td>#model   i love u take with u all the time in ...</td>\n",
       "    </tr>\n",
       "    <tr>\n",
       "      <th>4</th>\n",
       "      <td>5</td>\n",
       "      <td>0</td>\n",
       "      <td>factsguide: society now    #motivation</td>\n",
       "    </tr>\n",
       "    <tr>\n",
       "      <th>5</th>\n",
       "      <td>6</td>\n",
       "      <td>0</td>\n",
       "      <td>[2/2] huge fan fare and big talking before the...</td>\n",
       "    </tr>\n",
       "    <tr>\n",
       "      <th>6</th>\n",
       "      <td>7</td>\n",
       "      <td>0</td>\n",
       "      <td>@user camping tomorrow @user @user @user @use...</td>\n",
       "    </tr>\n",
       "    <tr>\n",
       "      <th>7</th>\n",
       "      <td>8</td>\n",
       "      <td>0</td>\n",
       "      <td>the next school year is the year for exams.ð...</td>\n",
       "    </tr>\n",
       "    <tr>\n",
       "      <th>8</th>\n",
       "      <td>9</td>\n",
       "      <td>0</td>\n",
       "      <td>we won!!! love the land!!! #allin #cavs #champ...</td>\n",
       "    </tr>\n",
       "    <tr>\n",
       "      <th>9</th>\n",
       "      <td>10</td>\n",
       "      <td>0</td>\n",
       "      <td>@user @user welcome here !  i'm   it's so #gr...</td>\n",
       "    </tr>\n",
       "  </tbody>\n",
       "</table>\n",
       "</div>"
      ],
      "text/plain": [
       "   id  label                                              tweet\n",
       "0   1      0   @user when a father is dysfunctional and is s...\n",
       "1   2      0  @user @user thanks for #lyft credit i can't us...\n",
       "2   3      0                                bihday your majesty\n",
       "3   4      0  #model   i love u take with u all the time in ...\n",
       "4   5      0             factsguide: society now    #motivation\n",
       "5   6      0  [2/2] huge fan fare and big talking before the...\n",
       "6   7      0   @user camping tomorrow @user @user @user @use...\n",
       "7   8      0  the next school year is the year for exams.ð...\n",
       "8   9      0  we won!!! love the land!!! #allin #cavs #champ...\n",
       "9  10      0   @user @user welcome here !  i'm   it's so #gr..."
      ]
     },
     "execution_count": 7,
     "metadata": {},
     "output_type": "execute_result"
    }
   ],
   "source": [
    "df.head(10)"
   ]
  },
  {
   "cell_type": "code",
   "execution_count": 9,
   "metadata": {},
   "outputs": [
    {
     "data": {
      "text/html": [
       "<div>\n",
       "<style scoped>\n",
       "    .dataframe tbody tr th:only-of-type {\n",
       "        vertical-align: middle;\n",
       "    }\n",
       "\n",
       "    .dataframe tbody tr th {\n",
       "        vertical-align: top;\n",
       "    }\n",
       "\n",
       "    .dataframe thead th {\n",
       "        text-align: right;\n",
       "    }\n",
       "</style>\n",
       "<table border=\"1\" class=\"dataframe\">\n",
       "  <thead>\n",
       "    <tr style=\"text-align: right;\">\n",
       "      <th></th>\n",
       "      <th>id</th>\n",
       "      <th>label</th>\n",
       "    </tr>\n",
       "  </thead>\n",
       "  <tbody>\n",
       "    <tr>\n",
       "      <th>count</th>\n",
       "      <td>31962.000000</td>\n",
       "      <td>31962.000000</td>\n",
       "    </tr>\n",
       "    <tr>\n",
       "      <th>mean</th>\n",
       "      <td>15981.500000</td>\n",
       "      <td>0.070146</td>\n",
       "    </tr>\n",
       "    <tr>\n",
       "      <th>std</th>\n",
       "      <td>9226.778988</td>\n",
       "      <td>0.255397</td>\n",
       "    </tr>\n",
       "    <tr>\n",
       "      <th>min</th>\n",
       "      <td>1.000000</td>\n",
       "      <td>0.000000</td>\n",
       "    </tr>\n",
       "    <tr>\n",
       "      <th>25%</th>\n",
       "      <td>7991.250000</td>\n",
       "      <td>0.000000</td>\n",
       "    </tr>\n",
       "    <tr>\n",
       "      <th>50%</th>\n",
       "      <td>15981.500000</td>\n",
       "      <td>0.000000</td>\n",
       "    </tr>\n",
       "    <tr>\n",
       "      <th>75%</th>\n",
       "      <td>23971.750000</td>\n",
       "      <td>0.000000</td>\n",
       "    </tr>\n",
       "    <tr>\n",
       "      <th>max</th>\n",
       "      <td>31962.000000</td>\n",
       "      <td>1.000000</td>\n",
       "    </tr>\n",
       "  </tbody>\n",
       "</table>\n",
       "</div>"
      ],
      "text/plain": [
       "                 id         label\n",
       "count  31962.000000  31962.000000\n",
       "mean   15981.500000      0.070146\n",
       "std     9226.778988      0.255397\n",
       "min        1.000000      0.000000\n",
       "25%     7991.250000      0.000000\n",
       "50%    15981.500000      0.000000\n",
       "75%    23971.750000      0.000000\n",
       "max    31962.000000      1.000000"
      ]
     },
     "execution_count": 9,
     "metadata": {},
     "output_type": "execute_result"
    }
   ],
   "source": [
    "# Looking at the overall layout/information for the dataset\n",
    "df.describe()"
   ]
  },
  {
   "cell_type": "code",
   "execution_count": 8,
   "metadata": {},
   "outputs": [
    {
     "data": {
      "text/plain": [
       "Index(['id', 'label', 'tweet'], dtype='object')"
      ]
     },
     "execution_count": 8,
     "metadata": {},
     "output_type": "execute_result"
    }
   ],
   "source": [
    "# What features do we have?\n",
    "df.columns"
   ]
  },
  {
   "cell_type": "code",
   "execution_count": 10,
   "metadata": {},
   "outputs": [
    {
     "data": {
      "text/plain": [
       "id        int64\n",
       "label     int64\n",
       "tweet    object\n",
       "dtype: object"
      ]
     },
     "execution_count": 10,
     "metadata": {},
     "output_type": "execute_result"
    }
   ],
   "source": [
    "# What type of data do we have?\n",
    "df.dtypes"
   ]
  },
  {
   "cell_type": "markdown",
   "metadata": {},
   "source": [
    "### 2.2: Cleaning/Visualizing Variables and Feature Engineering\n",
    "[Back to Outline](#Project-Outline)"
   ]
  },
  {
   "cell_type": "code",
   "execution_count": 11,
   "metadata": {},
   "outputs": [
    {
     "data": {
      "text/plain": [
       "id       0\n",
       "label    0\n",
       "tweet    0\n",
       "dtype: int64"
      ]
     },
     "execution_count": 11,
     "metadata": {},
     "output_type": "execute_result"
    }
   ],
   "source": [
    "# Locating any missing values\n",
    "df.isnull().sum()"
   ]
  },
  {
   "cell_type": "markdown",
   "metadata": {},
   "source": [
    "Whew! Thankfully, this dataset does not have any missing variables so I am going to keep moving on in our process"
   ]
  },
  {
   "cell_type": "code",
   "execution_count": 12,
   "metadata": {
    "scrolled": true
   },
   "outputs": [
    {
     "data": {
      "image/png": "[encoded data removed]",
      "text/plain": [
       "<Figure size 432x288 with 1 Axes>"
      ]
     },
     "metadata": {
      "needs_background": "light"
     },
     "output_type": "display_data"
    }
   ],
   "source": [
    "# What does the distribution of our lables look like?\n",
    "sns.countplot(x= df['label'], data= df, palette = 'bright')\n",
    "plt.title('Hate vs. Non-Hate Labeled Tweets')\n",
    "plt.xlabel('Tweet Label')\n",
    "plt.ylabel('Count of Tweets');"
   ]
  },
  {
   "cell_type": "code",
   "execution_count": 13,
   "metadata": {},
   "outputs": [
    {
     "data": {
      "text/plain": [
       "0    29720\n",
       "1     2242\n",
       "Name: label, dtype: int64"
      ]
     },
     "execution_count": 13,
     "metadata": {},
     "output_type": "execute_result"
    }
   ],
   "source": [
    "# Interesting. What are the actual counts of hate labeled(1) and non-hate labeled(0)?\n",
    "df['label'].value_counts()"
   ]
  },
  {
   "cell_type": "markdown",
   "metadata": {},
   "source": [
    "**Takeaway:** Our dataset is primarily labled as non-hate speech tweets (93% of total tweets). Our tweets labeled as hate speech are only about 7% of our total tweets."
   ]
  },
  {
   "cell_type": "markdown",
   "metadata": {},
   "source": [
    "My next question: does lenght of tweet relate to the label of the tweet?"
   ]
  },
  {
   "cell_type": "code",
   "execution_count": 14,
   "metadata": {},
   "outputs": [],
   "source": [
    "# Creating a new column to measure the length of each tweet\n",
    "df['tweet_length'] = (df['tweet']).str.len()\n",
    "\n",
    "# Sorting df by length of tweet, from longest to shortest\n",
    "df.sort_values(by = 'tweet_length', ascending= False, inplace = True);"
   ]
  },
  {
   "cell_type": "code",
   "execution_count": 15,
   "metadata": {
    "collapsed": true
   },
   "outputs": [
    {
     "data": {
      "text/html": [
       "<div>\n",
       "<style scoped>\n",
       "    .dataframe tbody tr th:only-of-type {\n",
       "        vertical-align: middle;\n",
       "    }\n",
       "\n",
       "    .dataframe tbody tr th {\n",
       "        vertical-align: top;\n",
       "    }\n",
       "\n",
       "    .dataframe thead th {\n",
       "        text-align: right;\n",
       "    }\n",
       "</style>\n",
       "<table border=\"1\" class=\"dataframe\">\n",
       "  <thead>\n",
       "    <tr style=\"text-align: right;\">\n",
       "      <th></th>\n",
       "      <th>id</th>\n",
       "      <th>label</th>\n",
       "      <th>tweet</th>\n",
       "      <th>tweet_length</th>\n",
       "    </tr>\n",
       "  </thead>\n",
       "  <tbody>\n",
       "    <tr>\n",
       "      <th>19770</th>\n",
       "      <td>19771</td>\n",
       "      <td>0</td>\n",
       "      <td>@user lmfao pathetic #soit   #growup #funny #...</td>\n",
       "      <td>274</td>\n",
       "    </tr>\n",
       "    <tr>\n",
       "      <th>13459</th>\n",
       "      <td>13460</td>\n",
       "      <td>0</td>\n",
       "      <td>awesom beautiful wonderfulððððð...</td>\n",
       "      <td>247</td>\n",
       "    </tr>\n",
       "    <tr>\n",
       "      <th>18433</th>\n",
       "      <td>18434</td>\n",
       "      <td>0</td>\n",
       "      <td>@user rotterdam â¢ socafrenzy â¢  ðð¿ð...</td>\n",
       "      <td>203</td>\n",
       "    </tr>\n",
       "    <tr>\n",
       "      <th>31485</th>\n",
       "      <td>31486</td>\n",
       "      <td>0</td>\n",
       "      <td>&amp;gt;&amp;gt;&amp;gt;&amp;gt;&amp;gt;&amp;gt;&amp;gt;&amp;gt;&amp;gt;&amp;gt;&amp;gt;&amp;g...</td>\n",
       "      <td>201</td>\n",
       "    </tr>\n",
       "    <tr>\n",
       "      <th>11283</th>\n",
       "      <td>11284</td>\n",
       "      <td>0</td>\n",
       "      <td>@user st lucia â¢ socafrenzy   ðð¿ðð...</td>\n",
       "      <td>199</td>\n",
       "    </tr>\n",
       "    <tr>\n",
       "      <th>26150</th>\n",
       "      <td>26151</td>\n",
       "      <td>0</td>\n",
       "      <td>rotterdam â¢ socafrenzy â¢  ðð¿ðð¿...</td>\n",
       "      <td>196</td>\n",
       "    </tr>\n",
       "    <tr>\n",
       "      <th>14632</th>\n",
       "      <td>14633</td>\n",
       "      <td>0</td>\n",
       "      <td>@user âï¸ï¸ð¸donald trump âï¸ð¸was...</td>\n",
       "      <td>180</td>\n",
       "    </tr>\n",
       "    <tr>\n",
       "      <th>11960</th>\n",
       "      <td>11961</td>\n",
       "      <td>0</td>\n",
       "      <td>oasis parkð¤bbq canvasâ³â³âµâ³âµ ðð...</td>\n",
       "      <td>178</td>\n",
       "    </tr>\n",
       "    <tr>\n",
       "      <th>15241</th>\n",
       "      <td>15242</td>\n",
       "      <td>0</td>\n",
       "      <td>happy fasting,happy saturday, happy weekend ha...</td>\n",
       "      <td>177</td>\n",
       "    </tr>\n",
       "    <tr>\n",
       "      <th>24776</th>\n",
       "      <td>24777</td>\n",
       "      <td>0</td>\n",
       "      <td>happy father's day ð  #ç¶ã®æ¥ #ã¹ã¿ã¼...</td>\n",
       "      <td>174</td>\n",
       "    </tr>\n",
       "    <tr>\n",
       "      <th>10515</th>\n",
       "      <td>10516</td>\n",
       "      <td>0</td>\n",
       "      <td>live on #periscope: she sexy say   bihday to h...</td>\n",
       "      <td>172</td>\n",
       "    </tr>\n",
       "    <tr>\n",
       "      <th>27458</th>\n",
       "      <td>27459</td>\n",
       "      <td>0</td>\n",
       "      <td>@user paccho's cafeð´ð #myself #pancakes...</td>\n",
       "      <td>171</td>\n",
       "    </tr>\n",
       "    <tr>\n",
       "      <th>14508</th>\n",
       "      <td>14509</td>\n",
       "      <td>0</td>\n",
       "      <td>hello. my day off^^à¸à¹à¸§à¸à¸à¸µà¹ work ...</td>\n",
       "      <td>171</td>\n",
       "    </tr>\n",
       "    <tr>\n",
       "      <th>10513</th>\n",
       "      <td>10514</td>\n",
       "      <td>0</td>\n",
       "      <td>brethren! ó¾®ó¾® so sick.... please put me i...</td>\n",
       "      <td>169</td>\n",
       "    </tr>\n",
       "    <tr>\n",
       "      <th>5558</th>\n",
       "      <td>5559</td>\n",
       "      <td>0</td>\n",
       "      <td>mary poppins â¡ ba  #tdl #æ´å  #ã°ãªã¼ã...</td>\n",
       "      <td>169</td>\n",
       "    </tr>\n",
       "    <tr>\n",
       "      <th>29406</th>\n",
       "      <td>29407</td>\n",
       "      <td>0</td>\n",
       "      <td>im getting my ps4 tomorrow ð±ðð±ðð...</td>\n",
       "      <td>164</td>\n",
       "    </tr>\n",
       "    <tr>\n",
       "      <th>12642</th>\n",
       "      <td>12643</td>\n",
       "      <td>0</td>\n",
       "      <td>has this happened to you? âââââââ...</td>\n",
       "      <td>164</td>\n",
       "    </tr>\n",
       "    <tr>\n",
       "      <th>15846</th>\n",
       "      <td>15847</td>\n",
       "      <td>0</td>\n",
       "      <td>today's lunchð #thankyou #thankful #lunch #...</td>\n",
       "      <td>164</td>\n",
       "    </tr>\n",
       "    <tr>\n",
       "      <th>6415</th>\n",
       "      <td>6416</td>\n",
       "      <td>0</td>\n",
       "      <td>no feelings left towards you ð",
       "ð¼nothing a...</td>\n",
       "      <td>163</td>\n",
       "    </tr>\n",
       "    <tr>\n",
       "      <th>12934</th>\n",
       "      <td>12935</td>\n",
       "      <td>0</td>\n",
       "      <td>@user happy fasting,happy saturday, happy wee...</td>\n",
       "      <td>163</td>\n",
       "    </tr>\n",
       "    <tr>\n",
       "      <th>30598</th>\n",
       "      <td>30599</td>\n",
       "      <td>0</td>\n",
       "      <td>wishing my lovely dad a very  fathersday - lov...</td>\n",
       "      <td>161</td>\n",
       "    </tr>\n",
       "    <tr>\n",
       "      <th>26933</th>\n",
       "      <td>26934</td>\n",
       "      <td>0</td>\n",
       "      <td>happy fasting,happy saturday, happy weekend ha...</td>\n",
       "      <td>159</td>\n",
       "    </tr>\n",
       "    <tr>\n",
       "      <th>7987</th>\n",
       "      <td>7988</td>\n",
       "      <td>0</td>\n",
       "      <td>ðð»ðð½ðð¿ðð¼ððð¼ð...</td>\n",
       "      <td>159</td>\n",
       "    </tr>\n",
       "    <tr>\n",
       "      <th>1474</th>\n",
       "      <td>1475</td>\n",
       "      <td>0</td>\n",
       "      <td>ðð»ðð½ðð¿ðð¼ððð¼ð...</td>\n",
       "      <td>159</td>\n",
       "    </tr>\n",
       "    <tr>\n",
       "      <th>19172</th>\n",
       "      <td>19173</td>\n",
       "      <td>0</td>\n",
       "      <td>ðð»ðð½ðð¿ðð¼ððð¼ð...</td>\n",
       "      <td>159</td>\n",
       "    </tr>\n",
       "    <tr>\n",
       "      <th>18114</th>\n",
       "      <td>18115</td>\n",
       "      <td>0</td>\n",
       "      <td>f.a.t.h.e.r.s. #day âfâ faithful.  âaâ...</td>\n",
       "      <td>159</td>\n",
       "    </tr>\n",
       "    <tr>\n",
       "      <th>2903</th>\n",
       "      <td>2904</td>\n",
       "      <td>0</td>\n",
       "      <td>#ãã­ã¡ãã¦ã¹ç«å±±  #ã¢ã¡ãªã«ã³ã¦...</td>\n",
       "      <td>158</td>\n",
       "    </tr>\n",
       "    <tr>\n",
       "      <th>2073</th>\n",
       "      <td>2074</td>\n",
       "      <td>0</td>\n",
       "      <td>@user #cuandojuegachilemepongo   ð saaaaaa...</td>\n",
       "      <td>158</td>\n",
       "    </tr>\n",
       "    <tr>\n",
       "      <th>10340</th>\n",
       "      <td>10341</td>\n",
       "      <td>0</td>\n",
       "      <td>#6yearswithinfinite happy 6th anniversary infi...</td>\n",
       "      <td>157</td>\n",
       "    </tr>\n",
       "    <tr>\n",
       "      <th>17356</th>\n",
       "      <td>17357</td>\n",
       "      <td>0</td>\n",
       "      <td>happy 35th bihday to chris evans!  âðð...</td>\n",
       "      <td>157</td>\n",
       "    </tr>\n",
       "    <tr>\n",
       "      <th>25794</th>\n",
       "      <td>25795</td>\n",
       "      <td>0</td>\n",
       "      <td>all packed and ready to go! ðð«ðð¾ð...</td>\n",
       "      <td>156</td>\n",
       "    </tr>\n",
       "    <tr>\n",
       "      <th>1621</th>\n",
       "      <td>1622</td>\n",
       "      <td>0</td>\n",
       "      <td>looking forward to a trip to @user tomorrow wi...</td>\n",
       "      <td>155</td>\n",
       "    </tr>\n",
       "    <tr>\n",
       "      <th>26800</th>\n",
       "      <td>26801</td>\n",
       "      <td>0</td>\n",
       "      <td>my ð&amp;amp;ð go out 2the victims &amp;amp;fami...</td>\n",
       "      <td>154</td>\n",
       "    </tr>\n",
       "    <tr>\n",
       "      <th>13493</th>\n",
       "      <td>13494</td>\n",
       "      <td>0</td>\n",
       "      <td>@user i just want to say your maternity range ...</td>\n",
       "      <td>154</td>\n",
       "    </tr>\n",
       "    <tr>\n",
       "      <th>24747</th>\n",
       "      <td>24748</td>\n",
       "      <td>0</td>\n",
       "      <td>@user a week till ibiza!!! ðð»ð¾ð¸ð...</td>\n",
       "      <td>154</td>\n",
       "    </tr>\n",
       "    <tr>\n",
       "      <th>10586</th>\n",
       "      <td>10587</td>\n",
       "      <td>0</td>\n",
       "      <td>when you pay for a medium iced coffee &amp;amp; ge...</td>\n",
       "      <td>154</td>\n",
       "    </tr>\n",
       "    <tr>\n",
       "      <th>30469</th>\n",
       "      <td>30470</td>\n",
       "      <td>0</td>\n",
       "      <td>my 4y old girl keeps telling everybody at scho...</td>\n",
       "      <td>154</td>\n",
       "    </tr>\n",
       "    <tr>\n",
       "      <th>17786</th>\n",
       "      <td>17787</td>\n",
       "      <td>0</td>\n",
       "      <td>fight homophobia, fight terrorism. ðºð¸ð...</td>\n",
       "      <td>153</td>\n",
       "    </tr>\n",
       "    <tr>\n",
       "      <th>21456</th>\n",
       "      <td>21457</td>\n",
       "      <td>0</td>\n",
       "      <td>\"a person needs just three things to be truly ...</td>\n",
       "      <td>153</td>\n",
       "    </tr>\n",
       "    <tr>\n",
       "      <th>11931</th>\n",
       "      <td>11932</td>\n",
       "      <td>0</td>\n",
       "      <td>last day of just being a stay at home mommy, t...</td>\n",
       "      <td>153</td>\n",
       "    </tr>\n",
       "    <tr>\n",
       "      <th>24473</th>\n",
       "      <td>24474</td>\n",
       "      <td>0</td>\n",
       "      <td>my ð&amp;amp;ð go out 2the victims &amp;amp;fami...</td>\n",
       "      <td>153</td>\n",
       "    </tr>\n",
       "    <tr>\n",
       "      <th>13837</th>\n",
       "      <td>13838</td>\n",
       "      <td>0</td>\n",
       "      <td>we all know that the difference between kpeker...</td>\n",
       "      <td>152</td>\n",
       "    </tr>\n",
       "    <tr>\n",
       "      <th>3734</th>\n",
       "      <td>3735</td>\n",
       "      <td>0</td>\n",
       "      <td>when you're already #freakin out about a #well...</td>\n",
       "      <td>152</td>\n",
       "    </tr>\n",
       "    <tr>\n",
       "      <th>23225</th>\n",
       "      <td>23226</td>\n",
       "      <td>0</td>\n",
       "      <td>when you haven't eaten all day so you stop at ...</td>\n",
       "      <td>152</td>\n",
       "    </tr>\n",
       "    <tr>\n",
       "      <th>29483</th>\n",
       "      <td>29484</td>\n",
       "      <td>0</td>\n",
       "      <td>â¤ï¸â¤ï¸â¤ï¸to all the #victims and #fam...</td>\n",
       "      <td>152</td>\n",
       "    </tr>\n",
       "    <tr>\n",
       "      <th>22090</th>\n",
       "      <td>22091</td>\n",
       "      <td>0</td>\n",
       "      <td>up late....i am tired but i can't sleep. my ey...</td>\n",
       "      <td>152</td>\n",
       "    </tr>\n",
       "    <tr>\n",
       "      <th>19022</th>\n",
       "      <td>19023</td>\n",
       "      <td>0</td>\n",
       "      <td>@user summer, where are you????âââââ...</td>\n",
       "      <td>152</td>\n",
       "    </tr>\n",
       "    <tr>\n",
       "      <th>13910</th>\n",
       "      <td>13911</td>\n",
       "      <td>0</td>\n",
       "      <td>\"a person needs just three things to be truly ...</td>\n",
       "      <td>152</td>\n",
       "    </tr>\n",
       "    <tr>\n",
       "      <th>18205</th>\n",
       "      <td>18206</td>\n",
       "      <td>1</td>\n",
       "      <td>#australia and japanese whaling  â¦ #å±±æ¬å...</td>\n",
       "      <td>152</td>\n",
       "    </tr>\n",
       "    <tr>\n",
       "      <th>27327</th>\n",
       "      <td>27328</td>\n",
       "      <td>0</td>\n",
       "      <td>@user  bihdayjayna, #god bless u wth lots of #...</td>\n",
       "      <td>151</td>\n",
       "    </tr>\n",
       "  </tbody>\n",
       "</table>\n",
       "</div>"
      ],
      "text/plain": [
       "          id  label                                              tweet  \\\n",
       "19770  19771      0   @user lmfao pathetic #soit   #growup #funny #...   \n",
       "13459  13460      0  awesom beautiful wonderfulððððð...   \n",
       "18433  18434      0   @user rotterdam â¢ socafrenzy â¢  ðð¿ð...   \n",
       "31485  31486      0  &gt;&gt;&gt;&gt;&gt;&gt;&gt;&gt;&gt;&gt;&gt;&g...   \n",
       "11283  11284      0   @user st lucia â¢ socafrenzy   ðð¿ðð...   \n",
       "26150  26151      0  rotterdam â¢ socafrenzy â¢  ðð¿ðð¿...   \n",
       "14632  14633      0   @user âï¸ï¸ð¸donald trump âï¸ð¸was...   \n",
       "11960  11961      0  oasis parkð¤bbq canvasâ³â³âµâ³âµ ðð...   \n",
       "15241  15242      0  happy fasting,happy saturday, happy weekend ha...   \n",
       "24776  24777      0  happy father's day ð  #ç¶ã®æ¥ #ã¹ã¿ã¼...   \n",
       "10515  10516      0  live on #periscope: she sexy say   bihday to h...   \n",
       "27458  27459      0   @user paccho's cafeð´ð #myself #pancakes...   \n",
       "14508  14509      0  hello. my day off^^à¸à¹à¸§à¸à¸à¸µà¹ work ...   \n",
       "10513  10514      0  brethren! ó¾®ó¾® so sick.... please put me i...   \n",
       "5558    5559      0  mary poppins â¡ ba  #tdl #æ´å  #ã°ãªã¼ã...   \n",
       "29406  29407      0  im getting my ps4 tomorrow ð±ðð±ðð...   \n",
       "12642  12643      0  has this happened to you? âââââââ...   \n",
       "15846  15847      0  today's lunchð #thankyou #thankful #lunch #...   \n",
       "6415    6416      0  no feelings left towards you ð\n",
       "ð¼nothing a...   \n",
       "12934  12935      0   @user happy fasting,happy saturday, happy wee...   \n",
       "30598  30599      0  wishing my lovely dad a very  fathersday - lov...   \n",
       "26933  26934      0  happy fasting,happy saturday, happy weekend ha...   \n",
       "7987    7988      0  ðð»ðð½ðð¿ðð¼ððð¼ð...   \n",
       "1474    1475      0  ðð»ðð½ðð¿ðð¼ððð¼ð...   \n",
       "19172  19173      0  ðð»ðð½ðð¿ðð¼ððð¼ð...   \n",
       "18114  18115      0    f.a.t.h.e.r.s. #day âfâ faithful.  âaâ...   \n",
       "2903    2904      0  #ãã­ã¡ãã¦ã¹ç«å±±  #ã¢ã¡ãªã«ã³ã¦...   \n",
       "2073    2074      0   @user #cuandojuegachilemepongo   ð saaaaaa...   \n",
       "10340  10341      0  #6yearswithinfinite happy 6th anniversary infi...   \n",
       "17356  17357      0  happy 35th bihday to chris evans!  âðð...   \n",
       "25794  25795      0  all packed and ready to go! ðð«ðð¾ð...   \n",
       "1621    1622      0  looking forward to a trip to @user tomorrow wi...   \n",
       "26800  26801      0  my ð&amp;ð go out 2the victims &amp;fami...   \n",
       "13493  13494      0  @user i just want to say your maternity range ...   \n",
       "24747  24748      0   @user a week till ibiza!!! ðð»ð¾ð¸ð...   \n",
       "10586  10587      0  when you pay for a medium iced coffee &amp; ge...   \n",
       "30469  30470      0  my 4y old girl keeps telling everybody at scho...   \n",
       "17786  17787      0  fight homophobia, fight terrorism. ðºð¸ð...   \n",
       "21456  21457      0  \"a person needs just three things to be truly ...   \n",
       "11931  11932      0  last day of just being a stay at home mommy, t...   \n",
       "24473  24474      0  my ð&amp;ð go out 2the victims &amp;fami...   \n",
       "13837  13838      0  we all know that the difference between kpeker...   \n",
       "3734    3735      0  when you're already #freakin out about a #well...   \n",
       "23225  23226      0  when you haven't eaten all day so you stop at ...   \n",
       "29483  29484      0  â¤ï¸â¤ï¸â¤ï¸to all the #victims and #fam...   \n",
       "22090  22091      0  up late....i am tired but i can't sleep. my ey...   \n",
       "19022  19023      0   @user summer, where are you????âââââ...   \n",
       "13910  13911      0  \"a person needs just three things to be truly ...   \n",
       "18205  18206      1   #australia and japanese whaling  â¦ #å±±æ¬å...   \n",
       "27327  27328      0  @user  bihdayjayna, #god bless u wth lots of #...   \n",
       "\n",
       "       tweet_length  \n",
       "19770           274  \n",
       "13459           247  \n",
       "18433           203  \n",
       "31485           201  \n",
       "11283           199  \n",
       "26150           196  \n",
       "14632           180  \n",
       "11960           178  \n",
       "15241           177  \n",
       "24776           174  \n",
       "10515           172  \n",
       "27458           171  \n",
       "14508           171  \n",
       "10513           169  \n",
       "5558            169  \n",
       "29406           164  \n",
       "12642           164  \n",
       "15846           164  \n",
       "6415            163  \n",
       "12934           163  \n",
       "30598           161  \n",
       "26933           159  \n",
       "7987            159  \n",
       "1474            159  \n",
       "19172           159  \n",
       "18114           159  \n",
       "2903            158  \n",
       "2073            158  \n",
       "10340           157  \n",
       "17356           157  \n",
       "25794           156  \n",
       "1621            155  \n",
       "26800           154  \n",
       "13493           154  \n",
       "24747           154  \n",
       "10586           154  \n",
       "30469           154  \n",
       "17786           153  \n",
       "21456           153  \n",
       "11931           153  \n",
       "24473           153  \n",
       "13837           152  \n",
       "3734            152  \n",
       "23225           152  \n",
       "29483           152  \n",
       "22090           152  \n",
       "19022           152  \n",
       "13910           152  \n",
       "18205           152  \n",
       "27327           151  "
      ]
     },
     "execution_count": 15,
     "metadata": {},
     "output_type": "execute_result"
    }
   ],
   "source": [
    "df.head(50)"
   ]
  },
  {
   "cell_type": "markdown",
   "metadata": {},
   "source": [
    "**Interesting:** in the top 50 longest tweets only **one** is labled as hate speech. Let's check out the 50 shortest tweets for their labels."
   ]
  },
  {
   "cell_type": "code",
   "execution_count": 18,
   "metadata": {
    "collapsed": true
   },
   "outputs": [
    {
     "data": {
      "text/html": [
       "<div>\n",
       "<style scoped>\n",
       "    .dataframe tbody tr th:only-of-type {\n",
       "        vertical-align: middle;\n",
       "    }\n",
       "\n",
       "    .dataframe tbody tr th {\n",
       "        vertical-align: top;\n",
       "    }\n",
       "\n",
       "    .dataframe thead th {\n",
       "        text-align: right;\n",
       "    }\n",
       "</style>\n",
       "<table border=\"1\" class=\"dataframe\">\n",
       "  <thead>\n",
       "    <tr style=\"text-align: right;\">\n",
       "      <th></th>\n",
       "      <th>id</th>\n",
       "      <th>label</th>\n",
       "      <th>tweet</th>\n",
       "      <th>tweet_length</th>\n",
       "    </tr>\n",
       "  </thead>\n",
       "  <tbody>\n",
       "    <tr>\n",
       "      <th>27032</th>\n",
       "      <td>27033</td>\n",
       "      <td>1</td>\n",
       "      <td>a deeper look</td>\n",
       "      <td>15</td>\n",
       "    </tr>\n",
       "    <tr>\n",
       "      <th>23417</th>\n",
       "      <td>23418</td>\n",
       "      <td>0</td>\n",
       "      <td>3 - 0 belgium</td>\n",
       "      <td>15</td>\n",
       "    </tr>\n",
       "    <tr>\n",
       "      <th>3811</th>\n",
       "      <td>3812</td>\n",
       "      <td>0</td>\n",
       "      <td>bihday to me</td>\n",
       "      <td>15</td>\n",
       "    </tr>\n",
       "    <tr>\n",
       "      <th>12305</th>\n",
       "      <td>12306</td>\n",
       "      <td>1</td>\n",
       "      <td>@user i agree.</td>\n",
       "      <td>15</td>\n",
       "    </tr>\n",
       "    <tr>\n",
       "      <th>30939</th>\n",
       "      <td>30940</td>\n",
       "      <td>0</td>\n",
       "      <td>you disgust me</td>\n",
       "      <td>15</td>\n",
       "    </tr>\n",
       "    <tr>\n",
       "      <th>27226</th>\n",
       "      <td>27227</td>\n",
       "      <td>0</td>\n",
       "      <td>it's euro eve</td>\n",
       "      <td>15</td>\n",
       "    </tr>\n",
       "    <tr>\n",
       "      <th>29138</th>\n",
       "      <td>29139</td>\n",
       "      <td>0</td>\n",
       "      <td>thank you god</td>\n",
       "      <td>15</td>\n",
       "    </tr>\n",
       "    <tr>\n",
       "      <th>26205</th>\n",
       "      <td>26206</td>\n",
       "      <td>0</td>\n",
       "      <td>shrek 2 is on</td>\n",
       "      <td>15</td>\n",
       "    </tr>\n",
       "    <tr>\n",
       "      <th>7693</th>\n",
       "      <td>7694</td>\n",
       "      <td>0</td>\n",
       "      <td>well said ð</td>\n",
       "      <td>15</td>\n",
       "    </tr>\n",
       "    <tr>\n",
       "      <th>15880</th>\n",
       "      <td>15881</td>\n",
       "      <td>0</td>\n",
       "      <td>kill me #meme</td>\n",
       "      <td>15</td>\n",
       "    </tr>\n",
       "    <tr>\n",
       "      <th>4372</th>\n",
       "      <td>4373</td>\n",
       "      <td>0</td>\n",
       "      <td>wtf is this.</td>\n",
       "      <td>15</td>\n",
       "    </tr>\n",
       "    <tr>\n",
       "      <th>12748</th>\n",
       "      <td>12749</td>\n",
       "      <td>0</td>\n",
       "      <td>hotel soon !</td>\n",
       "      <td>14</td>\n",
       "    </tr>\n",
       "    <tr>\n",
       "      <th>14066</th>\n",
       "      <td>14067</td>\n",
       "      <td>0</td>\n",
       "      <td>we sure are</td>\n",
       "      <td>14</td>\n",
       "    </tr>\n",
       "    <tr>\n",
       "      <th>2372</th>\n",
       "      <td>2373</td>\n",
       "      <td>0</td>\n",
       "      <td>join us! #</td>\n",
       "      <td>14</td>\n",
       "    </tr>\n",
       "    <tr>\n",
       "      <th>14476</th>\n",
       "      <td>14477</td>\n",
       "      <td>0</td>\n",
       "      <td>wow sept 1 me</td>\n",
       "      <td>14</td>\n",
       "    </tr>\n",
       "    <tr>\n",
       "      <th>13109</th>\n",
       "      <td>13110</td>\n",
       "      <td>0</td>\n",
       "      <td>this is deep.</td>\n",
       "      <td>14</td>\n",
       "    </tr>\n",
       "    <tr>\n",
       "      <th>10911</th>\n",
       "      <td>10912</td>\n",
       "      <td>0</td>\n",
       "      <td>mariah is so</td>\n",
       "      <td>14</td>\n",
       "    </tr>\n",
       "    <tr>\n",
       "      <th>9217</th>\n",
       "      <td>9218</td>\n",
       "      <td>0</td>\n",
       "      <td>cheer up -</td>\n",
       "      <td>14</td>\n",
       "    </tr>\n",
       "    <tr>\n",
       "      <th>29519</th>\n",
       "      <td>29520</td>\n",
       "      <td>0</td>\n",
       "      <td>such a user!</td>\n",
       "      <td>14</td>\n",
       "    </tr>\n",
       "    <tr>\n",
       "      <th>7516</th>\n",
       "      <td>7517</td>\n",
       "      <td>0</td>\n",
       "      <td>ugh same here</td>\n",
       "      <td>14</td>\n",
       "    </tr>\n",
       "    <tr>\n",
       "      <th>4668</th>\n",
       "      <td>4669</td>\n",
       "      <td>0</td>\n",
       "      <td>af right now</td>\n",
       "      <td>14</td>\n",
       "    </tr>\n",
       "    <tr>\n",
       "      <th>3598</th>\n",
       "      <td>3599</td>\n",
       "      <td>0</td>\n",
       "      <td>bihday to me</td>\n",
       "      <td>14</td>\n",
       "    </tr>\n",
       "    <tr>\n",
       "      <th>27831</th>\n",
       "      <td>27832</td>\n",
       "      <td>0</td>\n",
       "      <td>well i'll be!</td>\n",
       "      <td>14</td>\n",
       "    </tr>\n",
       "    <tr>\n",
       "      <th>22709</th>\n",
       "      <td>22710</td>\n",
       "      <td>0</td>\n",
       "      <td>i'm with you!</td>\n",
       "      <td>14</td>\n",
       "    </tr>\n",
       "    <tr>\n",
       "      <th>30270</th>\n",
       "      <td>30271</td>\n",
       "      <td>0</td>\n",
       "      <td>o m a y g a d</td>\n",
       "      <td>14</td>\n",
       "    </tr>\n",
       "    <tr>\n",
       "      <th>20916</th>\n",
       "      <td>20917</td>\n",
       "      <td>0</td>\n",
       "      <td>bag of dicks!</td>\n",
       "      <td>14</td>\n",
       "    </tr>\n",
       "    <tr>\n",
       "      <th>25279</th>\n",
       "      <td>25280</td>\n",
       "      <td>0</td>\n",
       "      <td>@user oh no!</td>\n",
       "      <td>14</td>\n",
       "    </tr>\n",
       "    <tr>\n",
       "      <th>5980</th>\n",
       "      <td>5981</td>\n",
       "      <td>0</td>\n",
       "      <td>so sad!! ð</td>\n",
       "      <td>14</td>\n",
       "    </tr>\n",
       "    <tr>\n",
       "      <th>28284</th>\n",
       "      <td>28285</td>\n",
       "      <td>0</td>\n",
       "      <td>good luck! :)</td>\n",
       "      <td>14</td>\n",
       "    </tr>\n",
       "    <tr>\n",
       "      <th>9060</th>\n",
       "      <td>9061</td>\n",
       "      <td>0</td>\n",
       "      <td>ex. in. cu.:</td>\n",
       "      <td>14</td>\n",
       "    </tr>\n",
       "    <tr>\n",
       "      <th>27694</th>\n",
       "      <td>27695</td>\n",
       "      <td>0</td>\n",
       "      <td>new job day!</td>\n",
       "      <td>14</td>\n",
       "    </tr>\n",
       "    <tr>\n",
       "      <th>8162</th>\n",
       "      <td>8163</td>\n",
       "      <td>0</td>\n",
       "      <td>@user still  !</td>\n",
       "      <td>14</td>\n",
       "    </tr>\n",
       "    <tr>\n",
       "      <th>28004</th>\n",
       "      <td>28005</td>\n",
       "      <td>0</td>\n",
       "      <td>@user oh damn</td>\n",
       "      <td>14</td>\n",
       "    </tr>\n",
       "    <tr>\n",
       "      <th>3351</th>\n",
       "      <td>3352</td>\n",
       "      <td>0</td>\n",
       "      <td>what i doð</td>\n",
       "      <td>14</td>\n",
       "    </tr>\n",
       "    <tr>\n",
       "      <th>23949</th>\n",
       "      <td>23950</td>\n",
       "      <td>0</td>\n",
       "      <td>go. to. bed.</td>\n",
       "      <td>14</td>\n",
       "    </tr>\n",
       "    <tr>\n",
       "      <th>13038</th>\n",
       "      <td>13039</td>\n",
       "      <td>0</td>\n",
       "      <td>why so   : d</td>\n",
       "      <td>13</td>\n",
       "    </tr>\n",
       "    <tr>\n",
       "      <th>8561</th>\n",
       "      <td>8562</td>\n",
       "      <td>0</td>\n",
       "      <td>bts day pay</td>\n",
       "      <td>13</td>\n",
       "    </tr>\n",
       "    <tr>\n",
       "      <th>8543</th>\n",
       "      <td>8544</td>\n",
       "      <td>0</td>\n",
       "      <td>play on eve</td>\n",
       "      <td>13</td>\n",
       "    </tr>\n",
       "    <tr>\n",
       "      <th>6225</th>\n",
       "      <td>6226</td>\n",
       "      <td>0</td>\n",
       "      <td>mood =   ð»</td>\n",
       "      <td>13</td>\n",
       "    </tr>\n",
       "    <tr>\n",
       "      <th>23848</th>\n",
       "      <td>23849</td>\n",
       "      <td>0</td>\n",
       "      <td>cbr at ubc:</td>\n",
       "      <td>13</td>\n",
       "    </tr>\n",
       "    <tr>\n",
       "      <th>21510</th>\n",
       "      <td>21511</td>\n",
       "      <td>0</td>\n",
       "      <td>i hate rere</td>\n",
       "      <td>13</td>\n",
       "    </tr>\n",
       "    <tr>\n",
       "      <th>3397</th>\n",
       "      <td>3398</td>\n",
       "      <td>1</td>\n",
       "      <td>shut up rat</td>\n",
       "      <td>12</td>\n",
       "    </tr>\n",
       "    <tr>\n",
       "      <th>24669</th>\n",
       "      <td>24670</td>\n",
       "      <td>0</td>\n",
       "      <td>ohh no how?</td>\n",
       "      <td>12</td>\n",
       "    </tr>\n",
       "    <tr>\n",
       "      <th>27629</th>\n",
       "      <td>27630</td>\n",
       "      <td>0</td>\n",
       "      <td>so sad ones</td>\n",
       "      <td>12</td>\n",
       "    </tr>\n",
       "    <tr>\n",
       "      <th>18996</th>\n",
       "      <td>18997</td>\n",
       "      <td>0</td>\n",
       "      <td>! shit sad</td>\n",
       "      <td>12</td>\n",
       "    </tr>\n",
       "    <tr>\n",
       "      <th>4411</th>\n",
       "      <td>4412</td>\n",
       "      <td>0</td>\n",
       "      <td>no 1 is up</td>\n",
       "      <td>12</td>\n",
       "    </tr>\n",
       "    <tr>\n",
       "      <th>13172</th>\n",
       "      <td>13173</td>\n",
       "      <td>0</td>\n",
       "      <td>my king k</td>\n",
       "      <td>12</td>\n",
       "    </tr>\n",
       "    <tr>\n",
       "      <th>31781</th>\n",
       "      <td>31782</td>\n",
       "      <td>0</td>\n",
       "      <td>we are too!</td>\n",
       "      <td>12</td>\n",
       "    </tr>\n",
       "    <tr>\n",
       "      <th>9130</th>\n",
       "      <td>9131</td>\n",
       "      <td>0</td>\n",
       "      <td>got this on</td>\n",
       "      <td>12</td>\n",
       "    </tr>\n",
       "    <tr>\n",
       "      <th>25195</th>\n",
       "      <td>25196</td>\n",
       "      <td>0</td>\n",
       "      <td>i love you</td>\n",
       "      <td>11</td>\n",
       "    </tr>\n",
       "  </tbody>\n",
       "</table>\n",
       "</div>"
      ],
      "text/plain": [
       "          id  label            tweet  tweet_length\n",
       "27032  27033      1   a deeper look             15\n",
       "23417  23418      0  3 - 0 belgium              15\n",
       "3811    3812      0    bihday to me             15\n",
       "12305  12306      1  @user i agree.             15\n",
       "30939  30940      0  you disgust me             15\n",
       "27226  27227      0  it's euro eve              15\n",
       "29138  29139      0  thank you god              15\n",
       "26205  26206      0  shrek 2 is on              15\n",
       "7693    7694      0  well said ð             15\n",
       "15880  15881      0  kill me #meme              15\n",
       "4372    4373      0  wtf is this.               15\n",
       "12748  12749      0   hotel soon !              14\n",
       "14066  14067      0   we sure are               14\n",
       "2372    2373      0   join us! #                14\n",
       "14476  14477      0   wow sept 1 me             14\n",
       "13109  13110      0   this is deep.             14\n",
       "10911  10912      0   mariah is so              14\n",
       "9217    9218      0   cheer up -                14\n",
       "29519  29520      0   such a user!              14\n",
       "7516    7517      0   ugh same here             14\n",
       "4668    4669      0     af right now            14\n",
       "3598    3599      0     bihday to me            14\n",
       "27831  27832      0   well i'll be!             14\n",
       "22709  22710      0   i'm with you!             14\n",
       "30270  30271      0   o m a y g a d             14\n",
       "20916  20917      0   bag of dicks!             14\n",
       "25279  25280      0   @user oh no!              14\n",
       "5980    5981      0   so sad!! ð             14\n",
       "28284  28285      0   good luck! :)             14\n",
       "9060    9061      0     ex. in. cu.:            14\n",
       "27694  27695      0   new job day!              14\n",
       "8162    8163      0   @user still  !            14\n",
       "28004  28005      0   @user oh damn             14\n",
       "3351    3352      0   what i doð             14\n",
       "23949  23950      0   go. to. bed.              14\n",
       "13038  13039      0    why so   : d             13\n",
       "8561    8562      0      bts day pay            13\n",
       "8543    8544      0    play on eve              13\n",
       "6225    6226      0    mood =   ð»            13\n",
       "23848  23849      0      cbr at ubc:            13\n",
       "21510  21511      0    i hate rere              13\n",
       "3397    3398      1     shut up rat             12\n",
       "24669  24670      0     ohh no how?             12\n",
       "27629  27630      0     so sad ones             12\n",
       "18996  18997      0       ! shit sad            12\n",
       "4411    4412      0     no 1 is up              12\n",
       "13172  13173      0     my king k               12\n",
       "31781  31782      0     we are too!             12\n",
       "9130    9131      0     got this on             12\n",
       "25195  25196      0      i love you             11"
      ]
     },
     "execution_count": 18,
     "metadata": {},
     "output_type": "execute_result"
    }
   ],
   "source": [
    "df.tail(50)"
   ]
  },
  {
   "cell_type": "markdown",
   "metadata": {},
   "source": [
    "In the last 50 tweets only **3** are labeled as hate speech. Let's compare the average lenght of a tweet from both labels."
   ]
  },
  {
   "cell_type": "code",
   "execution_count": 19,
   "metadata": {},
   "outputs": [],
   "source": [
    "# Creating sub-data frames with just hate or not hate labeled tweets\n",
    "hate_df= df.loc[df['label']== 1]\n",
    "nothate_df = df.loc[df['label']== 0]"
   ]
  },
  {
   "cell_type": "code",
   "execution_count": 20,
   "metadata": {},
   "outputs": [
    {
     "data": {
      "text/plain": [
       "90.19"
      ]
     },
     "execution_count": 20,
     "metadata": {},
     "output_type": "execute_result"
    }
   ],
   "source": [
    "# What is the average length of a hate-labeled tweet?\n",
    "round(hate_df['tweet_length'].mean(), 2)"
   ]
  },
  {
   "cell_type": "code",
   "execution_count": 21,
   "metadata": {},
   "outputs": [
    {
     "data": {
      "text/plain": [
       "84.33"
      ]
     },
     "execution_count": 21,
     "metadata": {},
     "output_type": "execute_result"
    }
   ],
   "source": [
    "# What is the average length of a non-hate labeled tweet?\n",
    "round(nothate_df['tweet_length'].mean(), 2)"
   ]
  },
  {
   "cell_type": "markdown",
   "metadata": {},
   "source": [
    "**Takeaway:** We've learned that, on average, tweets labeled as hate speech have more characters and are longer."
   ]
  },
  {
   "cell_type": "markdown",
   "metadata": {},
   "source": [
    "## 2.3: Thoroughly Cleaning the Text of Our Tweets\n",
    "[Back to Outline](#Project-Outline)\n",
    "\n",
    "The original text of our tweets is littered with non-English symbols, hashtags, and other \"junk\" that make it hard for our computer to process. We need to clean the tweets up significantly before we can do any modeling!"
   ]
  },
  {
   "cell_type": "code",
   "execution_count": 22,
   "metadata": {},
   "outputs": [],
   "source": [
    "# Since the original tweets contain extra letters/non-words I will be using the regex feature to clean them up.\n",
    "import re"
   ]
  },
  {
   "cell_type": "code",
   "execution_count": 23,
   "metadata": {},
   "outputs": [],
   "source": [
    "# After browsing the head of our dataset I created myown list of \"stop\" words to help make cleaning easier\n",
    "remove_words = ['the', 'a', 'and', 'an', 'to', 'is', 'if', 'you', 'i', 'am', 'in', '[^a-zA-Z0-9 ]', 'so', 'u',\n",
    "                'his', 'he', 'she','into','when', 'for', 'ur', 'cant', 'have', 'my', 'this', 'just', 'its', 'm', \n",
    "                'we', 'cant', 'what', 'how', 'be', 'dont', 'are', 'it', 'why', 'can', 'all', 'now', 'got', 'might', \n",
    "                'latest', 'no' , 'do', 'your', 'will', 'did', 'that', 'one', 'top', 'huh', 'as', 'at', 'bihday', 'like', 'amp']"
   ]
  },
  {
   "cell_type": "code",
   "execution_count": 24,
   "metadata": {},
   "outputs": [],
   "source": [
    "# Using regex to identify non-text, remove it, and return a new, clean tweet column\n",
    "pat = r'\\b(?:{})\\b'.format('|'.join(remove_words))\n",
    "df['cleaned_tweet'] = df['tweet'].str.replace(pat, '')\n",
    "df['cleaned_tweet'] = df.cleaned_tweet.str.replace('#','' ).str.replace('@user', '').str.replace('ð', '').str.replace('', '').str.replace('±', '')\n",
    "df.cleaned_tweet.replace({r'[^\\x00-\\x7F]+':''}, regex=True, inplace=True)"
   ]
  },
  {
   "cell_type": "markdown",
   "metadata": {},
   "source": [
    "## 2.4: Setting Up Text to Make Keyword Determination Easier\n",
    "[Back to Outline](#Project-Outline)"
   ]
  },
  {
   "cell_type": "markdown",
   "metadata": {},
   "source": [
    "Now that we have clean(er) tweets we need to look at the individual words to determine if there are patterns within the labels. "
   ]
  },
  {
   "cell_type": "code",
   "execution_count": 25,
   "metadata": {},
   "outputs": [],
   "source": [
    "# Importing the CountVectorizer from Sklearn!\n",
    "from sklearn.feature_extraction.text import CountVectorizer\n",
    "\n",
    "# Setting the max amount of features created to 5,000\n",
    "vectorizer = CountVectorizer(max_features= 5000)"
   ]
  },
  {
   "cell_type": "code",
   "execution_count": 26,
   "metadata": {},
   "outputs": [],
   "source": [
    "# Vectorize our cleaned tweets to transform the tweets into columns.\n",
    "X = vectorizer.fit_transform(df['cleaned_tweet'])\n",
    "\n",
    "# Putting these new split words into a table\n",
    "bag_of_words = pd.DataFrame(X.toarray(), columns = vectorizer.get_feature_names())"
   ]
  },
  {
   "cell_type": "code",
   "execution_count": 27,
   "metadata": {},
   "outputs": [
    {
     "data": {
      "text/html": [
       "<div>\n",
       "<style scoped>\n",
       "    .dataframe tbody tr th:only-of-type {\n",
       "        vertical-align: middle;\n",
       "    }\n",
       "\n",
       "    .dataframe tbody tr th {\n",
       "        vertical-align: top;\n",
       "    }\n",
       "\n",
       "    .dataframe thead th {\n",
       "        text-align: right;\n",
       "    }\n",
       "</style>\n",
       "<table border=\"1\" class=\"dataframe\">\n",
       "  <thead>\n",
       "    <tr style=\"text-align: right;\">\n",
       "      <th></th>\n",
       "      <th>01</th>\n",
       "      <th>02</th>\n",
       "      <th>03</th>\n",
       "      <th>05</th>\n",
       "      <th>10</th>\n",
       "      <th>100</th>\n",
       "      <th>1000</th>\n",
       "      <th>101</th>\n",
       "      <th>10k</th>\n",
       "      <th>11</th>\n",
       "      <th>...</th>\n",
       "      <th>yyc</th>\n",
       "      <th>zara</th>\n",
       "      <th>zealand</th>\n",
       "      <th>zelda</th>\n",
       "      <th>zen</th>\n",
       "      <th>zero</th>\n",
       "      <th>zionism</th>\n",
       "      <th>zone</th>\n",
       "      <th>zoo</th>\n",
       "      <th>zoro</th>\n",
       "    </tr>\n",
       "  </thead>\n",
       "  <tbody>\n",
       "    <tr>\n",
       "      <th>0</th>\n",
       "      <td>0</td>\n",
       "      <td>0</td>\n",
       "      <td>0</td>\n",
       "      <td>0</td>\n",
       "      <td>0</td>\n",
       "      <td>0</td>\n",
       "      <td>0</td>\n",
       "      <td>0</td>\n",
       "      <td>0</td>\n",
       "      <td>0</td>\n",
       "      <td>...</td>\n",
       "      <td>0</td>\n",
       "      <td>0</td>\n",
       "      <td>0</td>\n",
       "      <td>0</td>\n",
       "      <td>0</td>\n",
       "      <td>0</td>\n",
       "      <td>0</td>\n",
       "      <td>0</td>\n",
       "      <td>0</td>\n",
       "      <td>0</td>\n",
       "    </tr>\n",
       "    <tr>\n",
       "      <th>1</th>\n",
       "      <td>0</td>\n",
       "      <td>0</td>\n",
       "      <td>0</td>\n",
       "      <td>0</td>\n",
       "      <td>0</td>\n",
       "      <td>0</td>\n",
       "      <td>0</td>\n",
       "      <td>0</td>\n",
       "      <td>0</td>\n",
       "      <td>0</td>\n",
       "      <td>...</td>\n",
       "      <td>0</td>\n",
       "      <td>0</td>\n",
       "      <td>0</td>\n",
       "      <td>0</td>\n",
       "      <td>0</td>\n",
       "      <td>0</td>\n",
       "      <td>0</td>\n",
       "      <td>0</td>\n",
       "      <td>0</td>\n",
       "      <td>0</td>\n",
       "    </tr>\n",
       "    <tr>\n",
       "      <th>2</th>\n",
       "      <td>0</td>\n",
       "      <td>0</td>\n",
       "      <td>0</td>\n",
       "      <td>0</td>\n",
       "      <td>0</td>\n",
       "      <td>0</td>\n",
       "      <td>0</td>\n",
       "      <td>0</td>\n",
       "      <td>0</td>\n",
       "      <td>0</td>\n",
       "      <td>...</td>\n",
       "      <td>0</td>\n",
       "      <td>0</td>\n",
       "      <td>0</td>\n",
       "      <td>0</td>\n",
       "      <td>0</td>\n",
       "      <td>0</td>\n",
       "      <td>0</td>\n",
       "      <td>0</td>\n",
       "      <td>0</td>\n",
       "      <td>0</td>\n",
       "    </tr>\n",
       "    <tr>\n",
       "      <th>3</th>\n",
       "      <td>0</td>\n",
       "      <td>0</td>\n",
       "      <td>0</td>\n",
       "      <td>0</td>\n",
       "      <td>0</td>\n",
       "      <td>0</td>\n",
       "      <td>0</td>\n",
       "      <td>0</td>\n",
       "      <td>0</td>\n",
       "      <td>0</td>\n",
       "      <td>...</td>\n",
       "      <td>0</td>\n",
       "      <td>0</td>\n",
       "      <td>0</td>\n",
       "      <td>0</td>\n",
       "      <td>0</td>\n",
       "      <td>0</td>\n",
       "      <td>0</td>\n",
       "      <td>0</td>\n",
       "      <td>0</td>\n",
       "      <td>0</td>\n",
       "    </tr>\n",
       "    <tr>\n",
       "      <th>4</th>\n",
       "      <td>0</td>\n",
       "      <td>0</td>\n",
       "      <td>0</td>\n",
       "      <td>0</td>\n",
       "      <td>0</td>\n",
       "      <td>0</td>\n",
       "      <td>0</td>\n",
       "      <td>0</td>\n",
       "      <td>0</td>\n",
       "      <td>0</td>\n",
       "      <td>...</td>\n",
       "      <td>0</td>\n",
       "      <td>0</td>\n",
       "      <td>0</td>\n",
       "      <td>0</td>\n",
       "      <td>0</td>\n",
       "      <td>0</td>\n",
       "      <td>0</td>\n",
       "      <td>0</td>\n",
       "      <td>0</td>\n",
       "      <td>0</td>\n",
       "    </tr>\n",
       "  </tbody>\n",
       "</table>\n",
       "<p>5 rows × 5000 columns</p>\n",
       "</div>"
      ],
      "text/plain": [
       "   01  02  03  05  10  100  1000  101  10k  11  ...  yyc  zara  zealand  \\\n",
       "0   0   0   0   0   0    0     0    0    0   0  ...    0     0        0   \n",
       "1   0   0   0   0   0    0     0    0    0   0  ...    0     0        0   \n",
       "2   0   0   0   0   0    0     0    0    0   0  ...    0     0        0   \n",
       "3   0   0   0   0   0    0     0    0    0   0  ...    0     0        0   \n",
       "4   0   0   0   0   0    0     0    0    0   0  ...    0     0        0   \n",
       "\n",
       "   zelda  zen  zero  zionism  zone  zoo  zoro  \n",
       "0      0    0     0        0     0    0     0  \n",
       "1      0    0     0        0     0    0     0  \n",
       "2      0    0     0        0     0    0     0  \n",
       "3      0    0     0        0     0    0     0  \n",
       "4      0    0     0        0     0    0     0  \n",
       "\n",
       "[5 rows x 5000 columns]"
      ]
     },
     "execution_count": 27,
     "metadata": {},
     "output_type": "execute_result"
    }
   ],
   "source": [
    "# Double checking to make sure that it worked\n",
    "bag_of_words.head()"
   ]
  },
  {
   "cell_type": "markdown",
   "metadata": {},
   "source": [
    "## 2.5: Identifying Keywords and Common Words\n",
    "[Back to Outline](#Project-Outline)\n",
    "\n",
    "Since we have now cleaned our original tweets into something easier to read/process we need to look deeper into what patterns, if any, are present in specific types of tweets. The following code progression was inspired by Susan Li and her article, \"[A Complete Exploratory Data Analysis and Visualization for Text Data\"](https://towardsdatascience.com/a-complete-exploratory-data-analysis-and-visualization-for-text-data-29fb1b96fb6a)."
   ]
  },
  {
   "cell_type": "code",
   "execution_count": 28,
   "metadata": {},
   "outputs": [],
   "source": [
    "# Seeing the top 20 most used words- without using the stop words parameter\n",
    "def get_top_n_words(corpus, n=None):\n",
    "    vec = CountVectorizer().fit(corpus)\n",
    "    word_bag = vec.transform(corpus)\n",
    "    sum_words = word_bag.sum(axis=0) \n",
    "    words_freq = [(word, sum_words[0, idx]) for word, idx in vec.vocabulary_.items()]\n",
    "    words_freq =sorted(words_freq, key = lambda x: x[1], reverse=True)\n",
    "    return words_freq[:n]\n",
    "\n",
    "common_words = get_top_n_words(df['cleaned_tweet'], 20)\n",
    "#for word, freq in common_words:\n",
    "    #print(word, freq)\n",
    "df1 = pd.DataFrame(common_words, columns = ['word' , 'count'])\n",
    "df1.groupby('word').sum()['count'].sort_values(ascending=False);"
   ]
  },
  {
   "cell_type": "code",
   "execution_count": 29,
   "metadata": {},
   "outputs": [
    {
     "data": {
      "image/png": "[encoded data removed]",
      "text/plain": [
       "<Figure size 720x360 with 1 Axes>"
      ]
     },
     "metadata": {
      "needs_background": "light"
     },
     "output_type": "display_data"
    }
   ],
   "source": [
    "# What does this look like?\n",
    "plt.figure(figsize= (10,5))\n",
    "sns.barplot(x= df1['word'], y= df1['count'], data = df, palette= 'bright')\n",
    "plt.xticks(rotation= 60)\n",
    "plt.title('Top 20 Words in Tweets - With Stopwords')\n",
    "plt.ylabel('Number of Appearances')\n",
    "plt.xlabel('Word');"
   ]
  },
  {
   "cell_type": "markdown",
   "metadata": {},
   "source": [
    "Oh no! We still have little \"filler\" words like \"of\" in our analysis. Let's use SciKitLearn's default English stop words to clean this up even more!"
   ]
  },
  {
   "cell_type": "code",
   "execution_count": 30,
   "metadata": {},
   "outputs": [],
   "source": [
    "# Trying to clean up our cleaned tweets even more by using the default English stop words & re-running top 20\n",
    "def get_top_n_words(corpus, n=None):\n",
    "    vec = CountVectorizer(stop_words = 'english').fit(corpus)\n",
    "    word_bag = vec.transform(corpus)\n",
    "    sum_words = word_bag.sum(axis=0) \n",
    "    words_freq = [(word, sum_words[0, idx]) for word, idx in vec.vocabulary_.items()]\n",
    "    words_freq =sorted(words_freq, key = lambda x: x[1], reverse=True)\n",
    "    return words_freq[:n]\n",
    "\n",
    "common_words = get_top_n_words(df['cleaned_tweet'], 20)\n",
    "\n",
    "df2 = pd.DataFrame(common_words, columns = ['word' , 'count'])\n",
    "df2.groupby('word').sum()['count'].sort_values(ascending=False);"
   ]
  },
  {
   "cell_type": "code",
   "execution_count": 31,
   "metadata": {
    "scrolled": true
   },
   "outputs": [
    {
     "data": {
      "image/png": "[encoded data removed]",
      "text/plain": [
       "<Figure size 720x360 with 1 Axes>"
      ]
     },
     "metadata": {
      "needs_background": "light"
     },
     "output_type": "display_data"
    }
   ],
   "source": [
    "# What does this look like?\n",
    "plt.figure(figsize= (10,5))\n",
    "sns.barplot(x= df2['word'], y= df2['count'], data = df, palette= 'bright')\n",
    "plt.xticks(rotation= 60)\n",
    "plt.title('Top 20 Words in Tweets - Without Stopwords')\n",
    "plt.ylabel('Number of Appearances')\n",
    "plt.xlabel('Word');"
   ]
  },
  {
   "cell_type": "markdown",
   "metadata": {},
   "source": [
    "Excellent! We now have a rough idea of what words are most common within our entire dataset. \n",
    "**Takeaway:** The majority of our tweets seem to have a positive theme, based on the most frequently occuring words (love, happy, life, thankful, etc..) "
   ]
  },
  {
   "cell_type": "markdown",
   "metadata": {},
   "source": [
    "**Next question:** Can we pick out the most common words in tweets labeled negative?"
   ]
  },
  {
   "cell_type": "code",
   "execution_count": 32,
   "metadata": {},
   "outputs": [],
   "source": [
    "# Re-initalizing the \"hate\" and \"not-hate\" dataframes to include cleaned tweets\n",
    "hate_df= df.loc[df['label']== 1]\n",
    "nothate_df = df.loc[df['label']== 0]"
   ]
  },
  {
   "cell_type": "markdown",
   "metadata": {},
   "source": [
    "First, let's see what the top 20 words in our non-hate labeled tweets are."
   ]
  },
  {
   "cell_type": "code",
   "execution_count": 33,
   "metadata": {},
   "outputs": [],
   "source": [
    "# Trying to see what the top 20 words in non-hate labeled tweets are\n",
    "common_words = get_top_n_words(nothate_df['cleaned_tweet'], 20)\n",
    "\n",
    "nothate_df2= pd.DataFrame(common_words, columns = ['word', 'count'])\n",
    "nothate_df2.groupby('word').sum()['count'].sort_values(ascending = False);"
   ]
  },
  {
   "cell_type": "code",
   "execution_count": 34,
   "metadata": {},
   "outputs": [
    {
     "data": {
      "image/png": "[encoded data removed]",
      "text/plain": [
       "<Figure size 720x360 with 1 Axes>"
      ]
     },
     "metadata": {
      "needs_background": "light"
     },
     "output_type": "display_data"
    }
   ],
   "source": [
    "# Visualization of the top 20 occuring words in the non-hate labeled tweets\n",
    "plt.figure(figsize= (10,5))\n",
    "sns.barplot(x= nothate_df2['word'], y= nothate_df2['count'], data = nothate_df, palette= 'bright')\n",
    "plt.xticks(rotation= 60)\n",
    "plt.title('Top 20 Words in Tweets Labeled as Non-Hate Speech - Without Stopwords')\n",
    "plt.ylabel('Number of Appearances')\n",
    "plt.xlabel('Word');"
   ]
  },
  {
   "cell_type": "markdown",
   "metadata": {},
   "source": [
    "**Takeaway:** Since our dataset is made up of mostly non-hate labeled tweets our top 20 words pretty much stayed the same after splitting the dataset."
   ]
  },
  {
   "cell_type": "code",
   "execution_count": 35,
   "metadata": {},
   "outputs": [],
   "source": [
    "# Trying to see if I can get the top 20 words for tweets with a negative label\n",
    "common_words = get_top_n_words(hate_df['cleaned_tweet'], 20)\n",
    "\n",
    "hate_df2 = pd.DataFrame(common_words, columns = ['word' , 'count'])\n",
    "hate_df2.groupby('word').sum()['count'].sort_values(ascending=False);"
   ]
  },
  {
   "cell_type": "code",
   "execution_count": 36,
   "metadata": {},
   "outputs": [
    {
     "data": {
      "image/png": "[encoded data removed]",
      "text/plain": [
       "<Figure size 720x360 with 1 Axes>"
      ]
     },
     "metadata": {
      "needs_background": "light"
     },
     "output_type": "display_data"
    }
   ],
   "source": [
    "# Visualization of the top 20 occuring words in the hate-labeled tweets\n",
    "plt.figure(figsize= (10,5))\n",
    "sns.barplot(x= hate_df2['word'], y= hate_df2['count'], data = hate_df, palette= 'bright')\n",
    "plt.xticks(rotation= 60)\n",
    "plt.title('Top 20 Words in Tweets Labeled as Hate Speech - Without Stopwords')\n",
    "plt.ylabel('Number of Appearances')\n",
    "plt.xlabel('Word');"
   ]
  },
  {
   "cell_type": "markdown",
   "metadata": {},
   "source": [
    "**Takeaway:** Our top 20 words in the hate labeled tweets are drastically different from the non-hate labled tweets. Top occuring words are Trump, libtard, white, black, racist, & politics. It is interesting to note that both subsets have one word in their top 20 that overlaps: people."
   ]
  },
  {
   "cell_type": "markdown",
   "metadata": {},
   "source": [
    "**NOTE:** It's super important to pay attention to what words occur above and understand if they are actually words. For example: originally \"amp\" was the most frequently occuring word in tweets labeled as hate speech, but \"amp\" is what the ampersand (&) symbol was translated into when the text was scrapped from Twitter. The graph above reflects this update.\n",
    "\n",
    "Additionally, tweets often contain acronyms that aren't easily understood. In the graph above we have two: sjw (social justic warrior) and allahsoil(a common hashtag in this dataset that is associated with tweets involving Islamic references)."
   ]
  },
  {
   "cell_type": "markdown",
   "metadata": {},
   "source": [
    "With SKLearn we can also look for the top bigrams(two word combinations) and trigrams (three word combinations) within our dataset."
   ]
  },
  {
   "cell_type": "code",
   "execution_count": 37,
   "metadata": {},
   "outputs": [],
   "source": [
    "# Getting top bigrams after stop words removed main dataset\n",
    "def get_top_n_bigram(corpus, n=None):\n",
    "    vec = CountVectorizer(ngram_range=(2, 2), stop_words='english').fit(corpus)\n",
    "    word_bag = vec.transform(corpus)\n",
    "    sum_words = word_bag.sum(axis=0) \n",
    "    words_freq = [(word, sum_words[0, idx]) for word, idx in vec.vocabulary_.items()]\n",
    "    words_freq =sorted(words_freq, key = lambda x: x[1], reverse=True)\n",
    "    return words_freq[:n]\n",
    "\n",
    "common_words = get_top_n_bigram(df['cleaned_tweet'], 20)\n",
    "\n",
    "df3= pd.DataFrame(common_words, columns = ['word' , 'count'])\n",
    "df3.groupby('word').sum()['count'].sort_values(ascending=False);"
   ]
  },
  {
   "cell_type": "code",
   "execution_count": 38,
   "metadata": {},
   "outputs": [
    {
     "data": {
      "image/png": "[encoded data removed]",
      "text/plain": [
       "<Figure size 720x360 with 1 Axes>"
      ]
     },
     "metadata": {
      "needs_background": "light"
     },
     "output_type": "display_data"
    }
   ],
   "source": [
    "# Visualization of top bigrams in overall dataset\n",
    "plt.figure(figsize= (10,5))\n",
    "sns.barplot(x= df3['word'], y= df3['count'], data = df, palette= 'bright')\n",
    "plt.xticks(rotation= 60)\n",
    "plt.title('Top 20 Bi-grams in Tweets- Without Stopwords')\n",
    "plt.ylabel('Number of Appearances')\n",
    "plt.xlabel('Word');"
   ]
  },
  {
   "cell_type": "code",
   "execution_count": 39,
   "metadata": {},
   "outputs": [],
   "source": [
    "# top bigrams in hate labeled after removing stop words\n",
    "common_words= get_top_n_bigram(hate_df['cleaned_tweet'], 20)\n",
    "\n",
    "hate_bigrams= pd.DataFrame(common_words, columns = ['word', 'count'])\n",
    "hate_bigrams.groupby('word').sum()['count'].sort_values(ascending= False);"
   ]
  },
  {
   "cell_type": "code",
   "execution_count": 40,
   "metadata": {},
   "outputs": [
    {
     "data": {
      "image/png": "[encoded data removed]",
      "text/plain": [
       "<Figure size 720x360 with 1 Axes>"
      ]
     },
     "metadata": {
      "needs_background": "light"
     },
     "output_type": "display_data"
    }
   ],
   "source": [
    "# Visualization of top trigrams in hate labeled dataset\n",
    "plt.figure(figsize= (10,5))\n",
    "sns.barplot(x= hate_bigrams['word'], y= hate_bigrams['count'], data = hate_df, palette= 'bright')\n",
    "plt.xticks(rotation= 60)\n",
    "plt.title('Top 20 Bi-grams in Tweets Labeled as Hate Speech- Without Stopwords')\n",
    "plt.ylabel('Number of Appearances')\n",
    "plt.xlabel('Word');"
   ]
  },
  {
   "cell_type": "markdown",
   "metadata": {},
   "source": [
    "**Takeway:** For non-hate labeled tweets the top occuring bigrams have a positive connotation (at least two contain the actual word \"positive\") while the top bigrams in the hate-labeled tweets use political slurs, such as \"libtard\" and \"sjw\".\n",
    "\n",
    "**Acronym translation: WSO, in these tweets, refers to World Sikh Organization, a Canadian organization created to help support Sikh individuals in their communities.**"
   ]
  },
  {
   "cell_type": "code",
   "execution_count": 41,
   "metadata": {},
   "outputs": [],
   "source": [
    "# Top tri-grams in all tweets after remoing stop words \n",
    "def get_top_n_trigram(corpus, n=None):\n",
    "    vec = CountVectorizer(ngram_range=(3, 3), stop_words='english').fit(corpus)\n",
    "    word_bag = vec.transform(corpus)\n",
    "    sum_words = word_bag.sum(axis=0) \n",
    "    words_freq = [(word, sum_words[0, idx]) for word, idx in vec.vocabulary_.items()]\n",
    "    words_freq =sorted(words_freq, key = lambda x: x[1], reverse=True)\n",
    "    return words_freq[:n]\n",
    "\n",
    "common_words = get_top_n_trigram(df['cleaned_tweet'], 20)\n",
    "\n",
    "df4= pd.DataFrame(common_words, columns= ['word', 'count'])\n",
    "df4.groupby('word').sum()['count'].sort_values(ascending= False);"
   ]
  },
  {
   "cell_type": "code",
   "execution_count": 42,
   "metadata": {},
   "outputs": [
    {
     "data": {
      "image/png": "[encoded data removed]",
      "text/plain": [
       "<Figure size 720x360 with 1 Axes>"
      ]
     },
     "metadata": {
      "needs_background": "light"
     },
     "output_type": "display_data"
    }
   ],
   "source": [
    "# Visualization of top trigrams in entire dataset\n",
    "plt.figure(figsize= (10,5))\n",
    "sns.barplot(x= df4['word'], y= df4['count'], data = df, palette= 'bright')\n",
    "plt.xticks(rotation= 60)\n",
    "plt.title('Top 20 Tri-grams in Tweets- Without Stopwords')\n",
    "plt.ylabel('Number of Appearances')\n",
    "plt.xlabel('Word');"
   ]
  },
  {
   "cell_type": "code",
   "execution_count": 43,
   "metadata": {},
   "outputs": [],
   "source": [
    "# Looking for most common trigrams in hate labeled\n",
    "common_words= get_top_n_trigram(hate_df['cleaned_tweet'], 20)\n",
    "\n",
    "hate_trigram= pd.DataFrame(common_words, columns= ['word', 'count'])\n",
    "hate_trigram.groupby('word').sum()['count'].sort_values(ascending = False);"
   ]
  },
  {
   "cell_type": "code",
   "execution_count": 44,
   "metadata": {},
   "outputs": [
    {
     "data": {
      "image/png": "[encoded data removed]",
      "text/plain": [
       "<Figure size 720x360 with 1 Axes>"
      ]
     },
     "metadata": {
      "needs_background": "light"
     },
     "output_type": "display_data"
    }
   ],
   "source": [
    "# Visualization of top trigrams in hate-labeled tweets\n",
    "plt.figure(figsize= (10,5))\n",
    "sns.barplot(x= hate_trigram['word'], y= hate_trigram['count'], data = hate_df, palette= 'bright')\n",
    "plt.xticks(rotation= 90)\n",
    "plt.title('Top 20 Tri-grams in Tweets Labeled as Hate Speech- Without Stopwords')\n",
    "plt.ylabel('Number of Appearances')\n",
    "plt.xlabel('Word');"
   ]
  },
  {
   "cell_type": "markdown",
   "metadata": {},
   "source": [
    "**Takeaway:** The overall negative tone and use of insults & slurs in hate-labeled tweets only increases as we add more combinations of frequently occuring words. "
   ]
  },
  {
   "cell_type": "markdown",
   "metadata": {},
   "source": [
    "## 3. Modeling Our Data\n",
    "[Back to Outline](#Project-Outline)\n",
    "\n",
    "Now that we have analyzed the most frequently occuring words in both hate and non-hate labeled tweets we have a better overall picture of how the original data is labeled. Although the labels are not the most accurate (more on that in [4. Label Improvement & Future Implications](#4.-Label-Improvement-&-Future-Implications)) we can use what we already know to generate some predictive models to hopefully help detect racist and sexist hate speech in the future."
   ]
  },
  {
   "cell_type": "markdown",
   "metadata": {},
   "source": [
    "### 3.1: Set Up & Testing Our Labels\n",
    "[Back to Outline](#Project-Outline)\n",
    "\n",
    "To create our model we first need to know what our over-arching question for our model is and set our feature variables (X) and target variable (Y). Overall, we want to know if a tweet, that we have never seen before, contains hate speech. Our null hypothesis then becomes \"no, this tweet does not contain hate speech.\""
   ]
  },
  {
   "cell_type": "code",
   "execution_count": 45,
   "metadata": {},
   "outputs": [],
   "source": [
    "# Setting up the X and Y for our models\n",
    "X = bag_of_words\n",
    "\n",
    "Y= df['label']\n",
    "\n",
    "# Since this is a classification model let's try out a Multinomial Naive Bayes first\n",
    "from sklearn.naive_bayes import MultinomialNB\n",
    "model = MultinomialNB()"
   ]
  },
  {
   "cell_type": "markdown",
   "metadata": {},
   "source": [
    "As noted in the introduction to this section the labels provided with the dataset identifying tweets as hate/non-hate speech are not the most accurate. Let's test out \"fake\" tweets below on the entire data set to see if:\n",
    "1. The labels are mostly accurate\n",
    "2. What keywords trigger which labels\n",
    "3. Can a model predict what type of speech the \"fake\" tweets are?"
   ]
  },
  {
   "cell_type": "code",
   "execution_count": 46,
   "metadata": {},
   "outputs": [
    {
     "name": "stdout",
     "output_type": "stream",
     "text": [
      "[1]\n"
     ]
    }
   ],
   "source": [
    "# Playing around to test if this works\n",
    "practice_model = model.fit(X, Y)\n",
    "test_tweet = [\"my black dog is muslim and loves islam\"]\n",
    "\n",
    "X_test = vectorizer.transform(test_tweet).toarray()\n",
    "\n",
    "# I want to see what type of label the model will give my test_tweet\n",
    "prediction = practice_model.predict(X_test)\n",
    "print(prediction)"
   ]
  },
  {
   "cell_type": "markdown",
   "metadata": {},
   "source": [
    "Interesting! In the tweet above I played arround with different frequently-occuring words from the tweets labled \"hate speech\" in the dataset to see if I could create a harmless, non-hateful text that flagged itself as hate speech. Another example of such a fake tweet is below. "
   ]
  },
  {
   "cell_type": "code",
   "execution_count": 47,
   "metadata": {},
   "outputs": [
    {
     "name": "stdout",
     "output_type": "stream",
     "text": [
      "[1]\n"
     ]
    }
   ],
   "source": [
    "# Playing around to test if this works\n",
    "test_tweet2 = [\"Trump wears black shoes approprate to his sex.\"]\n",
    "\n",
    "X_test = vectorizer.transform(test_tweet2).toarray()\n",
    "\n",
    "# I want to see what type of label the model will give my test_tweet\n",
    "prediction = practice_model.predict(X_test)\n",
    "print(prediction)"
   ]
  },
  {
   "cell_type": "markdown",
   "metadata": {},
   "source": [
    "After my initial first look at the dataset I knew that the original labels of hate or not hate speech were flawed, but, after creating my own sample tweets, I now understand more of the subtle keywords that are tagged as hate. Try to create your own sample tweet below to play with the original keywords!"
   ]
  },
  {
   "cell_type": "code",
   "execution_count": 48,
   "metadata": {},
   "outputs": [
    {
     "name": "stdout",
     "output_type": "stream",
     "text": [
      "enter phrase: white potato named hillary trump\n",
      "[1]\n"
     ]
    }
   ],
   "source": [
    "# Playing around to test if this works\n",
    "test_tweet1 = [input(\"enter phrase: \")] \n",
    "\n",
    "X_test = vectorizer.transform(test_tweet1).toarray()\n",
    "\n",
    "# I want to see what type of label the model will give my test_tweet\n",
    "prediction = practice_model.predict(X_test)\n",
    "print(prediction)"
   ]
  },
  {
   "cell_type": "markdown",
   "metadata": {},
   "source": [
    "As you can see from your own experimenting above the original keywords and labeling for this dataset are flawed and will be treated with a grain of salt going forward. Based on this information I have decided to go ahead with the data as they are labeled, for now. At the end of this project I will create my own labels for comparison and modeling."
   ]
  },
  {
   "cell_type": "markdown",
   "metadata": {},
   "source": [
    "### 3.2: Creating hold-out groups and testing\n",
    "[Back to Outline](#Project-Outline)\n",
    "\n",
    "To start working on our predictive models we first need to start with a basic model to see how it preforms. Let's start with a Multinomial Naive Bayes approach, since our target (\"Is this hate speech?\") is a binary classification."
   ]
  },
  {
   "cell_type": "code",
   "execution_count": 49,
   "metadata": {},
   "outputs": [],
   "source": [
    "# Importing the needed libraries to train, test, and split!\n",
    "from sklearn.model_selection import train_test_split\n",
    "\n",
    "# Creating our holdout groups here!\n",
    "X_train, X_test, y_train, y_test = train_test_split(X, Y, test_size=0.2, random_state=20)"
   ]
  },
  {
   "cell_type": "code",
   "execution_count": 50,
   "metadata": {
    "scrolled": true
   },
   "outputs": [
    {
     "name": "stdout",
     "output_type": "stream",
     "text": [
      "With 20% Holdout: 0.9460347254809949\n",
      "Testing on Sample: 0.9570114510981791\n",
      "The average cross-validation score for this model is  0.922\n"
     ]
    }
   ],
   "source": [
    "# Let's try our model with different hold out groups and see what happens!\n",
    "\n",
    "print('With 20% Holdout: ' + str(model.fit(X_train, y_train).score(X_test, y_test)))\n",
    "print('Testing on Sample: ' + str(model.fit(X, Y).score(X, Y)))\n",
    "\n",
    "\n",
    "#Cross Validation\n",
    "from sklearn.model_selection import cross_val_score\n",
    "\n",
    "avg= round((cross_val_score(model, X, Y, cv=5)).mean(), 4)\n",
    "print('The average cross-validation score for this model is ', avg)"
   ]
  },
  {
   "cell_type": "markdown",
   "metadata": {},
   "source": [
    "Not too bad! Here is what this means in plain English: \n",
    "- On a holdout group of 20% of the total data our model can explain around 95% of the variance\n",
    "- On our entire dataset our model can explain around 96% of the final variance\n",
    "- After fine-tuning through cross-validation (multiple subgroups of data are created, take turns being training and testing, and then use the results as an average) our model can explain about 92% of the variance"
   ]
  },
  {
   "cell_type": "markdown",
   "metadata": {},
   "source": [
    "### 3.3: Parameter Manipulation within Multinomial Naive Bayes\n",
    "[Back to Outline](#Project-Outline)\n",
    "\n",
    "Although Multinomial Naive Bayes is a simple model there are three main parameters (details inside of the parenthesis after the model name) that we can manipulate to see if we can improve the performance of our model. Let's do that below!"
   ]
  },
  {
   "cell_type": "code",
   "execution_count": 51,
   "metadata": {
    "scrolled": true
   },
   "outputs": [
    {
     "name": "stdout",
     "output_type": "stream",
     "text": [
      "With 20% Holdout: 0.9460347254809949\n",
      "Testing on Sample: 0.9570114510981791\n",
      "The average cross-validation score for this model is  0.922\n"
     ]
    }
   ],
   "source": [
    "# Trying out a different smoothing method\n",
    "smooth_model = MultinomialNB(alpha =1.0)\n",
    "\n",
    "print('With 20% Holdout: ' + str(smooth_model.fit(X_train, y_train).score(X_test, y_test)))\n",
    "print('Testing on Sample: ' + str(smooth_model.fit(X, Y).score(X, Y)))\n",
    "\n",
    "avg= round((cross_val_score(smooth_model, X, Y, cv=5)).mean(), 4)\n",
    "print('The average cross-validation score for this model is ', avg)"
   ]
  },
  {
   "cell_type": "code",
   "execution_count": 52,
   "metadata": {},
   "outputs": [
    {
     "name": "stdout",
     "output_type": "stream",
     "text": [
      "With 20% Holdout: 0.9460347254809949\n",
      "Testing on Sample: 0.9570114510981791\n",
      "The average cross-validation score for this model is  0.922\n"
     ]
    }
   ],
   "source": [
    "# Playing with the prior class probabilities\n",
    "model_2 = MultinomialNB(class_prior=None)\n",
    "print('With 20% Holdout: ' + str(model_2.fit(X_train, y_train).score(X_test, y_test)))\n",
    "print('Testing on Sample: ' + str(model_2.fit(X, Y).score(X, Y)))\n",
    "\n",
    "avg= round((cross_val_score(model_2, X, Y, cv=5)).mean(), 4)\n",
    "print('The average cross-validation score for this model is ', avg)"
   ]
  },
  {
   "cell_type": "markdown",
   "metadata": {},
   "source": [
    "**Takeaway:** Overall these are basically the same in accuracy. Let's try one that is the opposite of the default."
   ]
  },
  {
   "cell_type": "code",
   "execution_count": 53,
   "metadata": {
    "scrolled": true
   },
   "outputs": [
    {
     "name": "stdout",
     "output_type": "stream",
     "text": [
      "With 20% Holdout: 0.9460347254809949\n",
      "Testing on Sample: 0.9570114510981791\n",
      "The average cross-validation score for this model is  0.922\n"
     ]
    }
   ],
   "source": [
    "# This model has the opposite of the default parameters set on each of our three options!\n",
    "model_3= MultinomialNB(class_prior=None, fit_prior=True)\n",
    "print('With 20% Holdout: ' + str(model_3.fit(X_train, y_train).score(X_test, y_test)))\n",
    "print('Testing on Sample: ' + str(model_3.fit(X, Y).score(X, Y)))\n",
    "\n",
    "avg= round((cross_val_score(model, X, Y, cv=5)).mean(), 4)\n",
    "print('The average cross-validation score for this model is ', avg)"
   ]
  },
  {
   "cell_type": "markdown",
   "metadata": {},
   "source": [
    "**Takeaway:** Changing from defaults on this model really doesn't make a difference! Overall, Multinomial Naive Bayes is a pretty accurate model for our NLP sentiment analysis!"
   ]
  },
  {
   "cell_type": "code",
   "execution_count": 54,
   "metadata": {
    "scrolled": true
   },
   "outputs": [
    {
     "data": {
      "image/png": "[encoded data removed]",
      "text/plain": [
       "<Figure size 432x288 with 2 Axes>"
      ]
     },
     "metadata": {
      "needs_background": "light"
     },
     "output_type": "display_data"
    }
   ],
   "source": [
    "# What does this model's preformance actually look like?\n",
    "import scikitplot as skplt\n",
    "\n",
    "y_pred= model.predict(X_test)\n",
    "\n",
    "skplt.metrics.plot_confusion_matrix(y_test, y_pred, normalize=True)\n",
    "plt.title('Normalized Confusion Matrix for Multinomial Naive Bayes Model');"
   ]
  },
  {
   "cell_type": "code",
   "execution_count": 55,
   "metadata": {},
   "outputs": [
    {
     "data": {
      "text/plain": [
       "<Figure size 1080x720 with 0 Axes>"
      ]
     },
     "metadata": {},
     "output_type": "display_data"
    },
    {
     "data": {
      "image/png": "[encoded data removed]",
      "text/plain": [
       "<Figure size 432x288 with 1 Axes>"
      ]
     },
     "metadata": {
      "needs_background": "light"
     },
     "output_type": "display_data"
    }
   ],
   "source": [
    "# What do the ROC curves look like for this model?\n",
    "y_probas = model.predict_proba(X_test)\n",
    "\n",
    "plt.figure(figsize=(15,10))\n",
    "skplt.metrics.plot_roc(y_test, y_probas)\n",
    "plt.title(\"ROC Curves for Multinomial Naive Bayes Model\");"
   ]
  },
  {
   "cell_type": "markdown",
   "metadata": {},
   "source": [
    "### 3.4: Testing Additional Models \n",
    "[Back to Outline](#Project-Outline)\n",
    "\n",
    "Sure, our Multinomial model was great, but how do other types of models work on predicting hate speech in tweets? Let's find out below!"
   ]
  },
  {
   "cell_type": "markdown",
   "metadata": {},
   "source": [
    "#### 3.4a: Complement Naive Bayes\n",
    "[Back to Outline](#Project-Outline)"
   ]
  },
  {
   "cell_type": "markdown",
   "metadata": {},
   "source": [
    "According to SKlearn documentation one of the best models for NLP(natural language processing) is Complement Naive Bayes. Is this true?"
   ]
  },
  {
   "cell_type": "code",
   "execution_count": 56,
   "metadata": {},
   "outputs": [
    {
     "name": "stdout",
     "output_type": "stream",
     "text": [
      "With 20% Holdout: 0.8675113405287033\n",
      "Testing on Sample: 0.8887741693260747\n",
      "The average cross-validation score for this model is  0.8411\n"
     ]
    }
   ],
   "source": [
    "# Importing and creating a Complement NB model!\n",
    "from sklearn.naive_bayes import ComplementNB\n",
    "c_model = ComplementNB()\n",
    "\n",
    "# Demonstrating how successful this model is with out data.\n",
    "\n",
    "print('With 20% Holdout: ' + str(c_model.fit(X_train, y_train).score(X_test, y_test)))\n",
    "print('Testing on Sample: ' + str(c_model.fit(X, Y).score(X, Y)))\n",
    "\n",
    "avg= round((cross_val_score(c_model, X, Y, cv=5)).mean(), 4)\n",
    "print('The average cross-validation score for this model is ', avg)"
   ]
  },
  {
   "cell_type": "markdown",
   "metadata": {},
   "source": [
    "Sorry, SKlearn! On our dataset the Complement Naive Bayes model only explained around 84% of final variance, even after cross-validation. \n",
    "\n",
    "**Takeaway:** It's important to always try out additional models, if you have the time and computational power. Just because one is recommended as the best (hah!) doesn't mean it will be!"
   ]
  },
  {
   "cell_type": "code",
   "execution_count": 57,
   "metadata": {},
   "outputs": [
    {
     "data": {
      "image/png": "[encoded data removed]",
      "text/plain": [
       "<Figure size 432x288 with 2 Axes>"
      ]
     },
     "metadata": {
      "needs_background": "light"
     },
     "output_type": "display_data"
    }
   ],
   "source": [
    "# What does this model's preformance look like?\n",
    "y_pred= c_model.predict(X_test)\n",
    "\n",
    "skplt.metrics.plot_confusion_matrix(y_test, y_pred, normalize=True)\n",
    "plt.title('Normalized Confusion Matrix for Complement Naive Bayes Model');"
   ]
  },
  {
   "cell_type": "code",
   "execution_count": 58,
   "metadata": {},
   "outputs": [
    {
     "data": {
      "text/plain": [
       "<Figure size 1080x720 with 0 Axes>"
      ]
     },
     "metadata": {},
     "output_type": "display_data"
    },
    {
     "data": {
      "image/png": "[encoded data removed]",
      "text/plain": [
       "<Figure size 432x288 with 1 Axes>"
      ]
     },
     "metadata": {
      "needs_background": "light"
     },
     "output_type": "display_data"
    }
   ],
   "source": [
    "# What do the ROC curves for this model look like?\n",
    "y_probas = c_model.predict_proba(X_test)\n",
    "\n",
    "plt.figure(figsize=(15,10))\n",
    "skplt.metrics.plot_roc(y_test, y_probas)\n",
    "plt.title(\"ROC Curves for Complement Naive Bayes Model\");"
   ]
  },
  {
   "cell_type": "markdown",
   "metadata": {},
   "source": [
    "After running the two models above we now know how (some) Naive Bayes models work on our dataset, but what about non-NB models? Let's try some out below!"
   ]
  },
  {
   "cell_type": "markdown",
   "metadata": {},
   "source": [
    "#### 3.4b: Decision Tree Model\n",
    "[Back to Outline](#Project-Outline)\n",
    "\n",
    "Decision trees are excellent models to use in classification because they act like a dichotomus key (anyone remember those from science class?) and asks binary classification questions (\"Is this a potato? Yes or no.\") to filter through the data. Let's run one on our dataset to see what happens."
   ]
  },
  {
   "cell_type": "code",
   "execution_count": 59,
   "metadata": {
    "scrolled": true
   },
   "outputs": [
    {
     "name": "stdout",
     "output_type": "stream",
     "text": [
      "With 20% Holdout: 0.9399343031440638\n",
      "Testing on Sample: 0.9397096552155685\n",
      "The average cross-validation score for this model is  0.9341\n"
     ]
    }
   ],
   "source": [
    "# Create decision tree model and run on holdout/sample\n",
    "from sklearn.tree import DecisionTreeClassifier\n",
    "clf = DecisionTreeClassifier(max_depth = 5)\n",
    "\n",
    "print('With 20% Holdout: ' + str(clf.fit(X_train, y_train).score(X_test, y_test)))\n",
    "print('Testing on Sample: ' + str(clf.fit(X, Y).score(X, Y)))\n",
    "\n",
    "avg= round((cross_val_score(clf, X, Y, cv=5)).mean(), 4)\n",
    "print('The average cross-validation score for this model is ', avg)"
   ]
  },
  {
   "cell_type": "code",
   "execution_count": 60,
   "metadata": {},
   "outputs": [
    {
     "data": {
      "image/png": "[encoded data removed]",
      "text/plain": [
       "<Figure size 432x288 with 2 Axes>"
      ]
     },
     "metadata": {
      "needs_background": "light"
     },
     "output_type": "display_data"
    }
   ],
   "source": [
    "# What does the preformance for this model look like?\n",
    "y_pred= clf.predict(X_test)\n",
    "\n",
    "skplt.metrics.plot_confusion_matrix(y_test, y_pred, normalize=True)\n",
    "plt.title('Normalized Confusion Matrix for Decision Tree Model');"
   ]
  },
  {
   "cell_type": "code",
   "execution_count": 61,
   "metadata": {},
   "outputs": [
    {
     "data": {
      "text/plain": [
       "<Figure size 1080x720 with 0 Axes>"
      ]
     },
     "metadata": {},
     "output_type": "display_data"
    },
    {
     "data": {
      "image/png": "[encoded data removed]",
      "text/plain": [
       "<Figure size 432x288 with 1 Axes>"
      ]
     },
     "metadata": {
      "needs_background": "light"
     },
     "output_type": "display_data"
    }
   ],
   "source": [
    "# What do the ROC curves for this model look like?\n",
    "y_probas = clf.predict_proba(X_test)\n",
    "\n",
    "plt.figure(figsize=(15,10))\n",
    "skplt.metrics.plot_roc(y_test, y_probas)\n",
    "plt.title(\"ROC Curves for Decision Tree Model\");"
   ]
  },
  {
   "cell_type": "markdown",
   "metadata": {},
   "source": [
    "**Takeaway:** Overall a decision tree model with the max depth (how many layers it can go to) as set above explains variance in our holdout (94%) and sample (94%) pretty well but looses explanatory power when we apply cross-validation to it (84%). This model is not America's Next Predictive Model."
   ]
  },
  {
   "cell_type": "markdown",
   "metadata": {},
   "source": [
    "#### 3.4c: KNN Classifier Model\n",
    "[Back to Outline](#Project-Outline)\n",
    "\n",
    "KNN (or K-Nearest Neighbor) classifier looks at labeled points in our training set and compares them to points that are close and unlabeled to see if the test data points are, in fact, of the same label. Our KNN classifier below looks at the nearest 3 data points (n_neighbors = 3) to determine the labels for our test data."
   ]
  },
  {
   "cell_type": "code",
   "execution_count": null,
   "metadata": {},
   "outputs": [],
   "source": [
    "# Create KNN model and run on holdout/sample\n",
    "from sklearn.neighbors import KNeighborsClassifier\n",
    "knn = KNeighborsClassifier(n_neighbors = 3)\n",
    "\n",
    "print('With 20% Holdout: ' + str(knn.fit(X_train, y_train).score(X_test, y_test)))"
   ]
  },
  {
   "cell_type": "code",
   "execution_count": null,
   "metadata": {},
   "outputs": [],
   "source": [
    "print('Testing on Sample: ' + str(knn.fit(X, Y).score(X, Y)))"
   ]
  },
  {
   "cell_type": "markdown",
   "metadata": {},
   "source": [
    "My computer can't handle the repeated cross-validation for this model, so I have removed it from my code."
   ]
  },
  {
   "cell_type": "code",
   "execution_count": null,
   "metadata": {},
   "outputs": [],
   "source": [
    "# What does the preformance of this model look like?\n",
    "y_pred= knn.predict(X_test)\n",
    "\n",
    "skplt.metrics.plot_confusion_matrix(y_test, y_pred, normalize=True)\n",
    "plt.title('Normalized Confusion Matrix for KNN Classifier Model');"
   ]
  },
  {
   "cell_type": "code",
   "execution_count": null,
   "metadata": {},
   "outputs": [],
   "source": [
    "# What do the ROC curves for this model look like?\n",
    "y_probas = knn.predict_proba(X_test)\n",
    "\n",
    "plt.figure(figsize=(15,10))\n",
    "skplt.metrics.plot_roc(y_test, y_probas)\n",
    "plt.title(\"ROC Curves for KNN Classifier Model\");"
   ]
  },
  {
   "cell_type": "markdown",
   "metadata": {},
   "source": [
    "**Takeaway:** Even after cross-validation the KNN classifier model did really well (holdout- 94%, sample- 96%, and after cross-validation - 94%). Although this model is giving us great preformance it is HUGE, takes a ton of computing power, and is, in reality, not too much better at explaining variance than our Multinomial Naive Bayes model. If we were doing more iterations and using the predictive models created in this capstone on larger datasets I would stick to the Multinomial for accuracy and smaller amount of comupting power needed to run it!"
   ]
  },
  {
   "cell_type": "markdown",
   "metadata": {},
   "source": [
    "## 4. Label Improvement & Future Implications\n",
    "[Back to Outline](#Project-Outline)"
   ]
  },
  {
   "cell_type": "markdown",
   "metadata": {},
   "source": [
    "As I mentioned above the original labels provided with this dataset to identify hate or non-hate containing tweets were, at best, inaccurate. After looking closely at a sample of 20 tweets labeled as hate speech I identified that only 4 actually contained speech that was hateful or insulting in anyway. The remainder of the 20 tweets within the sample seemed to contain keywords that singled them out for hate speech but were not actually hateful or offensive. This is a common problem in NLP since computers can not understand the subtle tone and semantics of text the way a human can. \n",
    "\n",
    "\n",
    "In an attempt to improve our predictions for hate speech in tweets I created an additional list of offensive and hateful words which I then used to re-label the data.\n",
    "\n",
    "**NOTE:** If crass and hateful words offend you, please skip the next code block."
   ]
  },
  {
   "cell_type": "code",
   "execution_count": null,
   "metadata": {},
   "outputs": [],
   "source": [
    "# Creating the initial hate keyword list- this can be updated and improved through iterations of the model\n",
    "hate_keywords = ['libtard', 'pussy', 'obama', 'trump', 'bitch', 'fuck','tyranny', 'tyrant', 'islamic', 'traitor', 'extremists', \n",
    "                 'muslim', 'fag', 'nigger', 'retardo', 'retarded', 'horny', 'kinky', 'cum', 'nude', 'slut', 'blow job', 'anti-whites', \n",
    "                 'whitegenocide', 'white supremecy', 'porn', 'sex', 'boob', 'naked', 'dick', 'shit', 'leftist', 'racism']\n",
    "pattern = '|'.join(hate_keywords)\n",
    "\n",
    "# Creating a new column for our revised labels\n",
    "df['new_label'] = df['cleaned_tweet'].str.contains(pattern)\n",
    "df['new_label'] = df['new_label'].map({True: '1', False: '0'})\n",
    "df['new_label'] = df['new_label'].astype(int)"
   ]
  },
  {
   "cell_type": "code",
   "execution_count": null,
   "metadata": {},
   "outputs": [],
   "source": [
    "# What do our new labels look like in comparison to our original labels?\n",
    "df.head(20)"
   ]
  },
  {
   "cell_type": "code",
   "execution_count": null,
   "metadata": {},
   "outputs": [],
   "source": [
    "# Let's compare the tweets that are labeled as hate speech using our new keywords to our original labels\n",
    "df.loc[df['new_label']== 1]"
   ]
  },
  {
   "cell_type": "code",
   "execution_count": null,
   "metadata": {},
   "outputs": [],
   "source": [
    "# What is the visual breakdown of the new labels?\n",
    "sns.countplot(x= df['new_label'], data= df, palette = 'bright');"
   ]
  },
  {
   "cell_type": "code",
   "execution_count": null,
   "metadata": {},
   "outputs": [],
   "source": [
    "# What is the actual breakdown now of hate and non-hate speech tweets?\n",
    "df['new_label'].value_counts()"
   ]
  },
  {
   "cell_type": "markdown",
   "metadata": {},
   "source": [
    "**Takeaway:** Our new labels have reduced the number of tweets identified as hate speech in our dataset (from 2,242 tweets originally to 1,945 tweets now), hopefully resulting in more accuratly labeled tweets. By using outside resources, such as the [Hurtlex Hate Speech Lexicon](http://hatespeech.di.unito.it/resources.html) created by researchers at the University of Torino, we can improve the hate keyword list and attempt to more accurately flag hate speech on Twitter in the future"
   ]
  },
  {
   "cell_type": "markdown",
   "metadata": {},
   "source": [
    "## 5. Analysis/Reflection\n",
    "[Back to Outline](#Project-Outline)"
   ]
  },
  {
   "cell_type": "markdown",
   "metadata": {},
   "source": [
    "### 5.1: Analysis of Overall Project & Future Implications\n",
    "[Back to Outline](#Project-Outline)"
   ]
  },
  {
   "cell_type": "markdown",
   "metadata": {},
   "source": [
    "All-in-all this project was difficult for various reasons, such as:\n",
    "* Hate speech is not a legally defined set of words and the colloquial definition of what constitues as hate speech changes based on the geographic region and the popular culture\n",
    "* Although all tweets provided in the database were written in English the semantics of the words written varried greatly depending on where the author of the tweet was from (ie: the word \"trump\" in the United States typically refers to the president of the nation, while the same word in the United Kingdom is used as a \"cheeky\" way to say \"fart\".)\n",
    "* Computers can't understand the underlying meaning behind text: this can result in mislabeled data when trying to predict sentiment \n",
    "* Sentiment analysis and NLP from scratch are new to me and required a lot of asking for help/reading documentation/browsing Stack Overflow\n",
    "\n",
    "I am pleased with my progress in both this capstone and learning NLP, and I hope to use these skills in the near future. I would love to continue to use the skills I learned in this project to create additional sentiment analysis models to apply in real-world situations. Sentimental analysis projects, such as this one, will hopefully be instrumental in the future to combat hate speech on social media and alert administrators of these platforms about potentially hurtful activity.\n"
   ]
  },
  {
   "cell_type": "markdown",
   "metadata": {},
   "source": [
    "### 5.2: Personal Reflection\n",
    "[Back to Outline](#Project-Outline)"
   ]
  },
  {
   "cell_type": "markdown",
   "metadata": {},
   "source": [
    "Overall,  I thoroughly enjoyed this project from start to finish. There were several times I had to stretch myself further than the skills I already knew and ask for help from others, but I have learned so much (in such a short time) from this project. I am thankful to have this opportunity! "
   ]
  }
 ],
 "metadata": {
  "kernelspec": {
   "display_name": "Python 3",
   "language": "python",
   "name": "python3"
  },
  "language_info": {
   "codemirror_mode": {
    "name": "ipython",
    "version": 3
   },
   "file_extension": ".py",
   "mimetype": "text/x-python",
   "name": "python",
   "nbconvert_exporter": "python",
   "pygments_lexer": "ipython3",
   "version": "3.7.3"
  }
 },
 "nbformat": 4,
 "nbformat_minor": 2
}
